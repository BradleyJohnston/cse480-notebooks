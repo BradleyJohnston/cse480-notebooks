{
  "nbformat": 4,
  "nbformat_minor": 0,
  "metadata": {
    "kernelspec": {
      "display_name": "Python 3",
      "language": "python",
      "name": "python3"
    },
    "language_info": {
      "codemirror_mode": {
        "name": "ipython",
        "version": 3
      },
      "file_extension": ".py",
      "mimetype": "text/x-python",
      "name": "python",
      "nbconvert_exporter": "python",
      "pygments_lexer": "ipython3",
      "version": "3.9.0"
    },
    "toc": {
      "colors": {
        "hover_highlight": "#DAA520",
        "running_highlight": "#FF0000",
        "selected_highlight": "#FFD700"
      },
      "moveMenuLeft": true,
      "nav_menu": {
        "height": "121px",
        "width": "252px"
      },
      "navigate_menu": true,
      "number_sections": true,
      "sideBar": true,
      "threshold": 4,
      "toc_cell": false,
      "toc_section_display": "block",
      "toc_window_display": false,
      "widenNotebook": false
    },
    "widgets": {
      "application/vnd.jupyter.widget-state+json": {
        "6a7a61da002c4d65b42c94387c917763": {
          "model_module": "@jupyter-widgets/controls",
          "model_name": "VBoxModel",
          "state": {
            "_view_name": "VBoxView",
            "_dom_classes": [],
            "_model_name": "VBoxModel",
            "_view_module": "@jupyter-widgets/controls",
            "_model_module_version": "1.5.0",
            "_view_count": null,
            "_view_module_version": "1.5.0",
            "box_style": "",
            "layout": "IPY_MODEL_a2a4182183d544f7a52f8796b96fb7f8",
            "_model_module": "@jupyter-widgets/controls",
            "children": [
              "IPY_MODEL_9faa83b6baae4fc4a3e01912e530d292",
              "IPY_MODEL_3bd1f5f7d88244f083b3ddca1a5eb919",
              "IPY_MODEL_b3094d52b5424370a81b8681a49251d5",
              "IPY_MODEL_26415c1ee1ef4ef1ab6f3e10df98ce33"
            ]
          }
        },
        "a2a4182183d544f7a52f8796b96fb7f8": {
          "model_module": "@jupyter-widgets/base",
          "model_name": "LayoutModel",
          "state": {
            "_view_name": "LayoutView",
            "grid_template_rows": null,
            "right": null,
            "justify_content": null,
            "_view_module": "@jupyter-widgets/base",
            "overflow": null,
            "_model_module_version": "1.2.0",
            "_view_count": null,
            "flex_flow": null,
            "width": null,
            "min_width": null,
            "border": null,
            "align_items": null,
            "bottom": null,
            "_model_module": "@jupyter-widgets/base",
            "top": null,
            "grid_column": null,
            "overflow_y": null,
            "overflow_x": null,
            "grid_auto_flow": null,
            "grid_area": null,
            "grid_template_columns": null,
            "flex": null,
            "_model_name": "LayoutModel",
            "justify_items": null,
            "grid_row": null,
            "max_height": null,
            "align_content": null,
            "visibility": null,
            "align_self": null,
            "height": null,
            "min_height": null,
            "padding": null,
            "grid_auto_rows": null,
            "grid_gap": null,
            "max_width": null,
            "order": null,
            "_view_module_version": "1.2.0",
            "grid_template_areas": null,
            "object_position": null,
            "object_fit": null,
            "grid_auto_columns": null,
            "margin": null,
            "display": null,
            "left": null
          }
        },
        "9faa83b6baae4fc4a3e01912e530d292": {
          "model_module": "@jupyter-widgets/controls",
          "model_name": "HBoxModel",
          "state": {
            "_view_name": "HBoxView",
            "_dom_classes": [],
            "_model_name": "HBoxModel",
            "_view_module": "@jupyter-widgets/controls",
            "_model_module_version": "1.5.0",
            "_view_count": null,
            "_view_module_version": "1.5.0",
            "box_style": "",
            "layout": "IPY_MODEL_aa4728bd27d04639995a8dad65251493",
            "_model_module": "@jupyter-widgets/controls",
            "children": [
              "IPY_MODEL_aeb9abcdce144c428186848d8bd53ca3",
              "IPY_MODEL_158e9577617a460d958ded9ac18bb7b1"
            ]
          }
        },
        "3bd1f5f7d88244f083b3ddca1a5eb919": {
          "model_module": "@jupyter-widgets/output",
          "model_name": "OutputModel",
          "state": {
            "_view_name": "OutputView",
            "msg_id": "",
            "_dom_classes": [],
            "_model_name": "OutputModel",
            "outputs": [
              {
                "output_type": "display_data",
                "metadata": {
                  "tags": []
                },
                "text/plain": "<graphviz.files.Source at 0x7f5aee261390>",
                "image/svg+xml": "<?xml version=\"1.0\" encoding=\"UTF-8\" standalone=\"no\"?>\n<!DOCTYPE svg PUBLIC \"-//W3C//DTD SVG 1.1//EN\"\n \"http://www.w3.org/Graphics/SVG/1.1/DTD/svg11.dtd\">\n<!-- Generated by graphviz version 2.40.1 (20161225.0304)\n -->\n<!-- Title: %3 Pages: 1 -->\n<svg width=\"638pt\" height=\"235pt\"\n viewBox=\"0.00 0.00 638.00 235.00\" xmlns=\"http://www.w3.org/2000/svg\" xmlns:xlink=\"http://www.w3.org/1999/xlink\">\n<g id=\"graph0\" class=\"graph\" transform=\"scale(1 1) rotate(0) translate(4 231)\">\n<title>%3</title>\n<polygon fill=\"#ffffff\" stroke=\"transparent\" points=\"-4,4 -4,-231 634,-231 634,4 -4,4\"/>\n<!-- EMPTY -->\n<g id=\"node1\" class=\"node\">\n<title>EMPTY</title>\n</g>\n<!-- I -->\n<g id=\"node8\" class=\"node\">\n<title>I</title>\n<ellipse fill=\"none\" stroke=\"#000000\" cx=\"109\" cy=\"-18\" rx=\"18\" ry=\"18\"/>\n<text text-anchor=\"middle\" x=\"109\" y=\"-14.3\" font-family=\"Times,serif\" font-size=\"14.00\" fill=\"#000000\">I</text>\n</g>\n<!-- EMPTY&#45;&gt;I -->\n<g id=\"edge1\" class=\"edge\">\n<title>EMPTY&#45;&gt;I</title>\n<path fill=\"none\" stroke=\"#000000\" d=\"M54.3048,-18C62.6909,-18 71.9407,-18 80.4103,-18\"/>\n<polygon fill=\"#000000\" stroke=\"#000000\" points=\"80.5976,-21.5001 90.5976,-18 80.5976,-14.5001 80.5976,-21.5001\"/>\n</g>\n<!-- E -->\n<g id=\"node2\" class=\"node\">\n<title>E</title>\n<ellipse fill=\"#66cd00\" stroke=\"#000000\" cx=\"355\" cy=\"-158\" rx=\"18\" ry=\"18\"/>\n<text text-anchor=\"middle\" x=\"355\" y=\"-154.3\" font-family=\"Times,serif\" font-size=\"14.00\" fill=\"#ffffff\">E</text>\n</g>\n<!-- A -->\n<g id=\"node5\" class=\"node\">\n<title>A</title>\n<ellipse fill=\"#66cd00\" stroke=\"#000000\" cx=\"190\" cy=\"-107\" rx=\"18\" ry=\"18\"/>\n<text text-anchor=\"middle\" x=\"190\" y=\"-103.3\" font-family=\"Times,serif\" font-size=\"14.00\" fill=\"#ffffff\">A</text>\n</g>\n<!-- E&#45;&gt;A -->\n<g id=\"edge12\" class=\"edge\">\n<title>E&#45;&gt;A</title>\n<path fill=\"none\" stroke=\"#000000\" d=\"M337.6388,-152.6338C308.9099,-143.754 251.2704,-125.9381 217.1292,-115.3854\"/>\n<polygon fill=\"#000000\" stroke=\"#000000\" points=\"217.9337,-111.9707 207.346,-112.3615 215.8665,-118.6585 217.9337,-111.9707\"/>\n<text text-anchor=\"start\" x=\"266.5\" y=\"-140.8\" font-family=\"Times,serif\" font-size=\"14.00\" fill=\"#000000\"> &#39;&#39;</text>\n</g>\n<!-- G -->\n<g id=\"node6\" class=\"node\">\n<title>G</title>\n<ellipse fill=\"#66cd00\" stroke=\"#000000\" cx=\"436\" cy=\"-78\" rx=\"18\" ry=\"18\"/>\n<text text-anchor=\"middle\" x=\"436\" y=\"-74.3\" font-family=\"Times,serif\" font-size=\"14.00\" fill=\"#ffffff\">G</text>\n</g>\n<!-- E&#45;&gt;G -->\n<g id=\"edge11\" class=\"edge\">\n<title>E&#45;&gt;G</title>\n<path fill=\"none\" stroke=\"#000000\" d=\"M368.0141,-145.1466C380.8858,-132.4338 400.771,-112.7941 415.7164,-98.0332\"/>\n<polygon fill=\"#000000\" stroke=\"#000000\" points=\"418.3628,-100.3387 423.0182,-90.8215 413.4439,-95.3583 418.3628,-100.3387\"/>\n<text text-anchor=\"start\" x=\"391\" y=\"-123.8\" font-family=\"Times,serif\" font-size=\"14.00\" fill=\"#000000\"> &#39;&#39;</text>\n</g>\n<!-- D -->\n<g id=\"node3\" class=\"node\">\n<title>D</title>\n<ellipse fill=\"none\" stroke=\"#000000\" cx=\"355\" cy=\"-78\" rx=\"18\" ry=\"18\"/>\n<text text-anchor=\"middle\" x=\"355\" y=\"-74.3\" font-family=\"Times,serif\" font-size=\"14.00\" fill=\"#000000\">D</text>\n</g>\n<!-- D&#45;&gt;A -->\n<g id=\"edge10\" class=\"edge\">\n<title>D&#45;&gt;A</title>\n<path fill=\"none\" stroke=\"#000000\" d=\"M337.4637,-82.1083C331.6072,-83.4238 325.0357,-84.8391 319,-86 284.3364,-92.6673 244.1649,-98.9862 217.9802,-102.9181\"/>\n<polygon fill=\"#000000\" stroke=\"#000000\" points=\"217.3808,-99.4687 208.0046,-104.402 218.4108,-106.3925 217.3808,-99.4687\"/>\n<text text-anchor=\"start\" x=\"266.5\" y=\"-100.8\" font-family=\"Times,serif\" font-size=\"14.00\" fill=\"#000000\"> &#39;&#39;</text>\n</g>\n<!-- D&#45;&gt;G -->\n<g id=\"edge9\" class=\"edge\">\n<title>D&#45;&gt;G</title>\n<path fill=\"none\" stroke=\"#000000\" d=\"M373.3802,-78C383.4966,-78 396.2691,-78 407.6363,-78\"/>\n<polygon fill=\"#000000\" stroke=\"#000000\" points=\"407.9716,-81.5001 417.9716,-78 407.9716,-74.5001 407.9716,-81.5001\"/>\n<text text-anchor=\"start\" x=\"391\" y=\"-81.8\" font-family=\"Times,serif\" font-size=\"14.00\" fill=\"#000000\"> &#39;&#39;</text>\n</g>\n<!-- H -->\n<g id=\"node4\" class=\"node\">\n<title>H</title>\n<ellipse fill=\"none\" stroke=\"#000000\" cx=\"520\" cy=\"-78\" rx=\"18\" ry=\"18\"/>\n<text text-anchor=\"middle\" x=\"520\" y=\"-74.3\" font-family=\"Times,serif\" font-size=\"14.00\" fill=\"#000000\">H</text>\n</g>\n<!-- F -->\n<g id=\"node10\" class=\"node\">\n<title>F</title>\n<ellipse fill=\"#66cd00\" stroke=\"#000000\" cx=\"608\" cy=\"-78\" rx=\"18\" ry=\"18\"/>\n<ellipse fill=\"none\" stroke=\"#000000\" cx=\"608\" cy=\"-78\" rx=\"22\" ry=\"22\"/>\n<text text-anchor=\"middle\" x=\"608\" y=\"-74.3\" font-family=\"Times,serif\" font-size=\"14.00\" fill=\"#ffffff\">F</text>\n</g>\n<!-- H&#45;&gt;F -->\n<g id=\"edge13\" class=\"edge\">\n<title>H&#45;&gt;F</title>\n<path fill=\"none\" stroke=\"#000000\" d=\"M538.2337,-78C549.0103,-78 562.9708,-78 575.5692,-78\"/>\n<polygon fill=\"#000000\" stroke=\"#000000\" points=\"575.7317,-81.5001 585.7317,-78 575.7317,-74.5001 575.7317,-81.5001\"/>\n<text text-anchor=\"start\" x=\"556\" y=\"-81.8\" font-family=\"Times,serif\" font-size=\"14.00\" fill=\"#000000\"> 0</text>\n</g>\n<!-- B -->\n<g id=\"node7\" class=\"node\">\n<title>B</title>\n<ellipse fill=\"#66cd00\" stroke=\"#000000\" cx=\"271\" cy=\"-53\" rx=\"18\" ry=\"18\"/>\n<text text-anchor=\"middle\" x=\"271\" y=\"-49.3\" font-family=\"Times,serif\" font-size=\"14.00\" fill=\"#ffffff\">B</text>\n</g>\n<!-- A&#45;&gt;B -->\n<g id=\"edge4\" class=\"edge\">\n<title>A&#45;&gt;B</title>\n<path fill=\"none\" stroke=\"#000000\" d=\"M203.5953,-95.1322C210.1621,-89.6416 218.2777,-83.1997 226,-78 232.1762,-73.8413 239.0984,-69.7417 245.627,-66.1031\"/>\n<polygon fill=\"#000000\" stroke=\"#000000\" points=\"247.6501,-68.9878 254.7776,-61.1488 244.3173,-62.8321 247.6501,-68.9878\"/>\n<text text-anchor=\"start\" x=\"226\" y=\"-81.8\" font-family=\"Times,serif\" font-size=\"14.00\" fill=\"#000000\"> &#39;&#39;</text>\n</g>\n<!-- C -->\n<g id=\"node9\" class=\"node\">\n<title>C</title>\n<ellipse fill=\"#66cd00\" stroke=\"#000000\" cx=\"271\" cy=\"-209\" rx=\"18\" ry=\"18\"/>\n<text text-anchor=\"middle\" x=\"271\" y=\"-205.3\" font-family=\"Times,serif\" font-size=\"14.00\" fill=\"#ffffff\">C</text>\n</g>\n<!-- A&#45;&gt;C -->\n<g id=\"edge5\" class=\"edge\">\n<title>A&#45;&gt;C</title>\n<path fill=\"none\" stroke=\"#000000\" d=\"M197.1651,-123.8317C203.5249,-137.6319 213.7027,-157.2278 226,-172 232.2323,-179.4867 240.1446,-186.5771 247.5906,-192.5098\"/>\n<polygon fill=\"#000000\" stroke=\"#000000\" points=\"245.9104,-195.6292 255.9888,-198.8968 250.1479,-190.0574 245.9104,-195.6292\"/>\n<text text-anchor=\"start\" x=\"226\" y=\"-184.8\" font-family=\"Times,serif\" font-size=\"14.00\" fill=\"#000000\"> &#39;&#39;</text>\n</g>\n<!-- G&#45;&gt;H -->\n<g id=\"edge6\" class=\"edge\">\n<title>G&#45;&gt;H</title>\n<path fill=\"none\" stroke=\"#000000\" d=\"M454.2267,-78C465.1242,-78 479.2054,-78 491.5413,-78\"/>\n<polygon fill=\"#000000\" stroke=\"#000000\" points=\"491.8089,-81.5001 501.8088,-78 491.8088,-74.5001 491.8089,-81.5001\"/>\n<text text-anchor=\"start\" x=\"472\" y=\"-81.8\" font-family=\"Times,serif\" font-size=\"14.00\" fill=\"#000000\"> 1</text>\n</g>\n<!-- B&#45;&gt;D -->\n<g id=\"edge7\" class=\"edge\">\n<title>B&#45;&gt;D</title>\n<path fill=\"none\" stroke=\"#000000\" d=\"M288.4049,-58.18C299.7804,-61.5656 314.8725,-66.0573 327.8129,-69.9086\"/>\n<polygon fill=\"#000000\" stroke=\"#000000\" points=\"327.0345,-73.3286 337.6174,-72.8266 329.0313,-66.6194 327.0345,-73.3286\"/>\n<text text-anchor=\"start\" x=\"307\" y=\"-70.8\" font-family=\"Times,serif\" font-size=\"14.00\" fill=\"#000000\"> 1</text>\n</g>\n<!-- I&#45;&gt;A -->\n<g id=\"edge3\" class=\"edge\">\n<title>I&#45;&gt;A</title>\n<path fill=\"none\" stroke=\"#000000\" d=\"M121.3022,-31.5172C134.4616,-45.9764 155.5061,-69.0993 170.8389,-85.9464\"/>\n<polygon fill=\"#000000\" stroke=\"#000000\" points=\"168.5281,-88.6074 177.8475,-93.6472 173.7051,-83.8957 168.5281,-88.6074\"/>\n<text text-anchor=\"start\" x=\"145\" y=\"-69.8\" font-family=\"Times,serif\" font-size=\"14.00\" fill=\"#000000\"> &#39;&#39;</text>\n</g>\n<!-- I&#45;&gt;G -->\n<g id=\"edge2\" class=\"edge\">\n<title>I&#45;&gt;G</title>\n<path fill=\"none\" stroke=\"#000000\" d=\"M126.1867,-12.5831C142.4518,-7.9414 167.6386,-2 190,-2 190,-2 190,-2 355,-2 385.3374,-2 408.9784,-30.7028 422.696,-52.83\"/>\n<polygon fill=\"#000000\" stroke=\"#000000\" points=\"419.7107,-54.6581 427.7924,-61.5091 425.747,-51.1136 419.7107,-54.6581\"/>\n<text text-anchor=\"start\" x=\"266.5\" y=\"-5.8\" font-family=\"Times,serif\" font-size=\"14.00\" fill=\"#000000\"> &#39;&#39;</text>\n</g>\n<!-- C&#45;&gt;E -->\n<g id=\"edge8\" class=\"edge\">\n<title>C&#45;&gt;E</title>\n<path fill=\"none\" stroke=\"#000000\" d=\"M286.4069,-199.6458C298.7621,-192.1444 316.333,-181.4764 330.5978,-172.8156\"/>\n<polygon fill=\"#000000\" stroke=\"#000000\" points=\"332.6749,-175.6492 339.4063,-167.4676 329.042,-169.6657 332.6749,-175.6492\"/>\n<text text-anchor=\"start\" x=\"307\" y=\"-189.8\" font-family=\"Times,serif\" font-size=\"14.00\" fill=\"#000000\"> 0</text>\n</g>\n</g>\n</svg>\n"
              }
            ],
            "_view_module": "@jupyter-widgets/output",
            "_model_module_version": "1.0.0",
            "_view_count": null,
            "_view_module_version": "1.0.0",
            "layout": "IPY_MODEL_47baeb43b8864790aaf2d5c4a4ac1e43",
            "_model_module": "@jupyter-widgets/output"
          }
        },
        "b3094d52b5424370a81b8681a49251d5": {
          "model_module": "@jupyter-widgets/output",
          "model_name": "OutputModel",
          "state": {
            "_view_name": "OutputView",
            "msg_id": "",
            "_dom_classes": [],
            "_model_name": "OutputModel",
            "outputs": [
              {
                "output_type": "display_data",
                "metadata": {
                  "tags": []
                },
                "text/plain": "<graphviz.files.Source at 0x7f5aee261390>",
                "image/svg+xml": "<?xml version=\"1.0\" encoding=\"UTF-8\" standalone=\"no\"?>\n<!DOCTYPE svg PUBLIC \"-//W3C//DTD SVG 1.1//EN\"\n \"http://www.w3.org/Graphics/SVG/1.1/DTD/svg11.dtd\">\n<!-- Generated by graphviz version 2.40.1 (20161225.0304)\n -->\n<!-- Title: %3 Pages: 1 -->\n<svg width=\"116pt\" height=\"47pt\"\n viewBox=\"0.00 0.00 116.00 47.00\" xmlns=\"http://www.w3.org/2000/svg\" xmlns:xlink=\"http://www.w3.org/1999/xlink\">\n<g id=\"graph0\" class=\"graph\" transform=\"scale(1 1) rotate(0) translate(4 43)\">\n<title>%3</title>\n<polygon fill=\"#ffffff\" stroke=\"transparent\" points=\"-4,4 -4,-43 112,-43 112,4 -4,4\"/>\n<!-- feed -->\n<g id=\"node1\" class=\"node\">\n<title>feed</title>\n<polygon fill=\"none\" stroke=\"#000000\" points=\"8,-3.5 8,-34.5 57,-34.5 57,-3.5 8,-3.5\"/>\n<text text-anchor=\"start\" x=\"17\" y=\"-15.9\" font-family=\"Times,serif\" font-size=\"12.00\" fill=\"#000000\">10010</text>\n<polygon fill=\"none\" stroke=\"#000000\" points=\"57,-3.5 57,-34.5 82,-34.5 82,-3.5 57,-3.5\"/>\n<text text-anchor=\"start\" x=\"66\" y=\"-15.9\" font-family=\"Times,serif\" font-size=\"12.00\" fill=\"#000000\"> &#160;</text>\n<polygon fill=\"none\" stroke=\"#000000\" points=\"82,-3.5 82,-34.5 100,-34.5 100,-3.5 82,-3.5\"/>\n</g>\n</g>\n</svg>\n"
              }
            ],
            "_view_module": "@jupyter-widgets/output",
            "_model_module_version": "1.0.0",
            "_view_count": null,
            "_view_module_version": "1.0.0",
            "layout": "IPY_MODEL_51e354d5a2db4913b8f5c987bb50d4a2",
            "_model_module": "@jupyter-widgets/output"
          }
        },
        "26415c1ee1ef4ef1ab6f3e10df98ce33": {
          "model_module": "@jupyter-widgets/controls",
          "model_name": "HBoxModel",
          "state": {
            "_view_name": "HBoxView",
            "_dom_classes": [],
            "_model_name": "HBoxModel",
            "_view_module": "@jupyter-widgets/controls",
            "_model_module_version": "1.5.0",
            "_view_count": null,
            "_view_module_version": "1.5.0",
            "box_style": "",
            "layout": "IPY_MODEL_58a55406bea14f5d866e011c48dcdab0",
            "_model_module": "@jupyter-widgets/controls",
            "children": [
              "IPY_MODEL_59f3bee8d2814ca2974be9d2fb18f46d",
              "IPY_MODEL_900728a111bc40158300253f26c477d0",
              "IPY_MODEL_f1243ed8d4984496852210144d854f9f",
              "IPY_MODEL_902575a484804de794d1e33103dfa780"
            ]
          }
        },
        "aa4728bd27d04639995a8dad65251493": {
          "model_module": "@jupyter-widgets/base",
          "model_name": "LayoutModel",
          "state": {
            "_view_name": "LayoutView",
            "grid_template_rows": null,
            "right": null,
            "justify_content": null,
            "_view_module": "@jupyter-widgets/base",
            "overflow": null,
            "_model_module_version": "1.2.0",
            "_view_count": null,
            "flex_flow": null,
            "width": null,
            "min_width": null,
            "border": null,
            "align_items": null,
            "bottom": null,
            "_model_module": "@jupyter-widgets/base",
            "top": null,
            "grid_column": null,
            "overflow_y": null,
            "overflow_x": null,
            "grid_auto_flow": null,
            "grid_area": null,
            "grid_template_columns": null,
            "flex": null,
            "_model_name": "LayoutModel",
            "justify_items": null,
            "grid_row": null,
            "max_height": null,
            "align_content": null,
            "visibility": null,
            "align_self": null,
            "height": null,
            "min_height": null,
            "padding": null,
            "grid_auto_rows": null,
            "grid_gap": null,
            "max_width": null,
            "order": null,
            "_view_module_version": "1.2.0",
            "grid_template_areas": null,
            "object_position": null,
            "object_fit": null,
            "grid_auto_columns": null,
            "margin": null,
            "display": null,
            "left": null
          }
        },
        "aeb9abcdce144c428186848d8bd53ca3": {
          "model_module": "@jupyter-widgets/controls",
          "model_name": "TextModel",
          "state": {
            "_view_name": "TextView",
            "style": "IPY_MODEL_6d84895e89184fed9994e364b66be2c1",
            "_dom_classes": [],
            "description": "Input:",
            "_model_name": "TextModel",
            "placeholder": "Sigma: {0,1}",
            "_view_module": "@jupyter-widgets/controls",
            "_model_module_version": "1.5.0",
            "value": "10010",
            "_view_count": null,
            "disabled": true,
            "_view_module_version": "1.5.0",
            "continuous_update": true,
            "description_tooltip": null,
            "_model_module": "@jupyter-widgets/controls",
            "layout": "IPY_MODEL_082339431a7d410583edbd6098a0ff12"
          }
        },
        "158e9577617a460d958ded9ac18bb7b1": {
          "model_module": "@jupyter-widgets/controls",
          "model_name": "ButtonModel",
          "state": {
            "_view_name": "ButtonView",
            "style": "IPY_MODEL_214e612e32064e7a836d3375b5feef11",
            "_dom_classes": [],
            "description": "Change Input",
            "_model_name": "ButtonModel",
            "button_style": "primary",
            "_view_module": "@jupyter-widgets/controls",
            "_model_module_version": "1.5.0",
            "tooltip": "",
            "_view_count": null,
            "disabled": false,
            "_view_module_version": "1.5.0",
            "layout": "IPY_MODEL_510e7ea6c2a84e8599eb861bcc6371be",
            "_model_module": "@jupyter-widgets/controls",
            "icon": ""
          }
        },
        "58a55406bea14f5d866e011c48dcdab0": {
          "model_module": "@jupyter-widgets/base",
          "model_name": "LayoutModel",
          "state": {
            "_view_name": "LayoutView",
            "grid_template_rows": null,
            "right": null,
            "justify_content": null,
            "_view_module": "@jupyter-widgets/base",
            "overflow": null,
            "_model_module_version": "1.2.0",
            "_view_count": null,
            "flex_flow": null,
            "width": null,
            "min_width": null,
            "border": null,
            "align_items": null,
            "bottom": null,
            "_model_module": "@jupyter-widgets/base",
            "top": null,
            "grid_column": null,
            "overflow_y": null,
            "overflow_x": null,
            "grid_auto_flow": null,
            "grid_area": null,
            "grid_template_columns": null,
            "flex": null,
            "_model_name": "LayoutModel",
            "justify_items": null,
            "grid_row": null,
            "max_height": null,
            "align_content": null,
            "visibility": null,
            "align_self": null,
            "height": null,
            "min_height": null,
            "padding": null,
            "grid_auto_rows": null,
            "grid_gap": null,
            "max_width": null,
            "order": null,
            "_view_module_version": "1.2.0",
            "grid_template_areas": null,
            "object_position": null,
            "object_fit": null,
            "grid_auto_columns": null,
            "margin": null,
            "display": null,
            "left": null
          }
        },
        "59f3bee8d2814ca2974be9d2fb18f46d": {
          "model_module": "@jupyter-widgets/controls",
          "model_name": "PlayModel",
          "state": {
            "_view_name": "PlayView",
            "style": "IPY_MODEL_e3e22575aaf94d5297da15fc1beeadfc",
            "interval": 950,
            "_dom_classes": [],
            "description": "Press play",
            "_model_name": "PlayModel",
            "max": 15,
            "_view_module": "@jupyter-widgets/controls",
            "_model_module_version": "1.5.0",
            "value": 15,
            "_view_count": null,
            "disabled": false,
            "_repeat": false,
            "_view_module_version": "1.5.0",
            "show_repeat": true,
            "min": 0,
            "_playing": false,
            "step": 1,
            "description_tooltip": null,
            "_model_module": "@jupyter-widgets/controls",
            "layout": "IPY_MODEL_fd24d42c3aac4d9a988ee19803ff8d5b"
          }
        },
        "900728a111bc40158300253f26c477d0": {
          "model_module": "@jupyter-widgets/controls",
          "model_name": "ButtonModel",
          "state": {
            "_view_name": "ButtonView",
            "style": "IPY_MODEL_df53e87c07234e0a8fb2e9839c9c151f",
            "_dom_classes": [],
            "description": "",
            "_model_name": "ButtonModel",
            "button_style": "",
            "_view_module": "@jupyter-widgets/controls",
            "_model_module_version": "1.5.0",
            "tooltip": "",
            "_view_count": null,
            "disabled": false,
            "_view_module_version": "1.5.0",
            "layout": "IPY_MODEL_9f117c23df73412991d3f5d4eb5ee393",
            "_model_module": "@jupyter-widgets/controls",
            "icon": "step-backward"
          }
        },
        "f1243ed8d4984496852210144d854f9f": {
          "model_module": "@jupyter-widgets/controls",
          "model_name": "ButtonModel",
          "state": {
            "_view_name": "ButtonView",
            "style": "IPY_MODEL_5d9adb657da248998a7723739c73761c",
            "_dom_classes": [],
            "description": "",
            "_model_name": "ButtonModel",
            "button_style": "",
            "_view_module": "@jupyter-widgets/controls",
            "_model_module_version": "1.5.0",
            "tooltip": "",
            "_view_count": null,
            "disabled": true,
            "_view_module_version": "1.5.0",
            "layout": "IPY_MODEL_860f61b66c4247d48dd3f06ce569892a",
            "_model_module": "@jupyter-widgets/controls",
            "icon": "step-forward"
          }
        },
        "902575a484804de794d1e33103dfa780": {
          "model_module": "@jupyter-widgets/controls",
          "model_name": "IntSliderModel",
          "state": {
            "_view_name": "IntSliderView",
            "style": "IPY_MODEL_45ace1bcf5894f6090c63e7eaa2c2eaf",
            "_dom_classes": [],
            "description": "Speed:",
            "step": 1,
            "_model_name": "IntSliderModel",
            "orientation": "horizontal",
            "max": 10,
            "_view_module": "@jupyter-widgets/controls",
            "_model_module_version": "1.5.0",
            "value": 1,
            "_view_count": null,
            "disabled": false,
            "_view_module_version": "1.5.0",
            "min": 1,
            "continuous_update": false,
            "readout_format": "d",
            "description_tooltip": null,
            "readout": true,
            "_model_module": "@jupyter-widgets/controls",
            "layout": "IPY_MODEL_1b62968dde424703958d174997e5ae11"
          }
        },
        "6d84895e89184fed9994e364b66be2c1": {
          "model_module": "@jupyter-widgets/controls",
          "model_name": "DescriptionStyleModel",
          "state": {
            "_view_name": "StyleView",
            "_model_name": "DescriptionStyleModel",
            "description_width": "",
            "_view_module": "@jupyter-widgets/base",
            "_model_module_version": "1.5.0",
            "_view_count": null,
            "_view_module_version": "1.2.0",
            "_model_module": "@jupyter-widgets/controls"
          }
        },
        "082339431a7d410583edbd6098a0ff12": {
          "model_module": "@jupyter-widgets/base",
          "model_name": "LayoutModel",
          "state": {
            "_view_name": "LayoutView",
            "grid_template_rows": null,
            "right": null,
            "justify_content": null,
            "_view_module": "@jupyter-widgets/base",
            "overflow": null,
            "_model_module_version": "1.2.0",
            "_view_count": null,
            "flex_flow": null,
            "width": "500px",
            "min_width": null,
            "border": null,
            "align_items": null,
            "bottom": null,
            "_model_module": "@jupyter-widgets/base",
            "top": null,
            "grid_column": null,
            "overflow_y": null,
            "overflow_x": null,
            "grid_auto_flow": null,
            "grid_area": null,
            "grid_template_columns": null,
            "flex": null,
            "_model_name": "LayoutModel",
            "justify_items": null,
            "grid_row": null,
            "max_height": null,
            "align_content": null,
            "visibility": null,
            "align_self": null,
            "height": null,
            "min_height": null,
            "padding": null,
            "grid_auto_rows": null,
            "grid_gap": null,
            "max_width": null,
            "order": null,
            "_view_module_version": "1.2.0",
            "grid_template_areas": null,
            "object_position": null,
            "object_fit": null,
            "grid_auto_columns": null,
            "margin": null,
            "display": null,
            "left": null
          }
        },
        "214e612e32064e7a836d3375b5feef11": {
          "model_module": "@jupyter-widgets/controls",
          "model_name": "ButtonStyleModel",
          "state": {
            "_view_name": "StyleView",
            "_model_name": "ButtonStyleModel",
            "_view_module": "@jupyter-widgets/base",
            "_model_module_version": "1.5.0",
            "_view_count": null,
            "button_color": null,
            "font_weight": "",
            "_view_module_version": "1.2.0",
            "_model_module": "@jupyter-widgets/controls"
          }
        },
        "510e7ea6c2a84e8599eb861bcc6371be": {
          "model_module": "@jupyter-widgets/base",
          "model_name": "LayoutModel",
          "state": {
            "_view_name": "LayoutView",
            "grid_template_rows": null,
            "right": null,
            "justify_content": null,
            "_view_module": "@jupyter-widgets/base",
            "overflow": null,
            "_model_module_version": "1.2.0",
            "_view_count": null,
            "flex_flow": null,
            "width": null,
            "min_width": null,
            "border": null,
            "align_items": null,
            "bottom": null,
            "_model_module": "@jupyter-widgets/base",
            "top": null,
            "grid_column": null,
            "overflow_y": null,
            "overflow_x": null,
            "grid_auto_flow": null,
            "grid_area": null,
            "grid_template_columns": null,
            "flex": null,
            "_model_name": "LayoutModel",
            "justify_items": null,
            "grid_row": null,
            "max_height": null,
            "align_content": null,
            "visibility": null,
            "align_self": null,
            "height": null,
            "min_height": null,
            "padding": null,
            "grid_auto_rows": null,
            "grid_gap": null,
            "max_width": null,
            "order": null,
            "_view_module_version": "1.2.0",
            "grid_template_areas": null,
            "object_position": null,
            "object_fit": null,
            "grid_auto_columns": null,
            "margin": null,
            "display": null,
            "left": null
          }
        },
        "e3e22575aaf94d5297da15fc1beeadfc": {
          "model_module": "@jupyter-widgets/controls",
          "model_name": "DescriptionStyleModel",
          "state": {
            "_view_name": "StyleView",
            "_model_name": "DescriptionStyleModel",
            "description_width": "",
            "_view_module": "@jupyter-widgets/base",
            "_model_module_version": "1.5.0",
            "_view_count": null,
            "_view_module_version": "1.2.0",
            "_model_module": "@jupyter-widgets/controls"
          }
        },
        "fd24d42c3aac4d9a988ee19803ff8d5b": {
          "model_module": "@jupyter-widgets/base",
          "model_name": "LayoutModel",
          "state": {
            "_view_name": "LayoutView",
            "grid_template_rows": null,
            "right": null,
            "justify_content": null,
            "_view_module": "@jupyter-widgets/base",
            "overflow": null,
            "_model_module_version": "1.2.0",
            "_view_count": null,
            "flex_flow": null,
            "width": null,
            "min_width": null,
            "border": null,
            "align_items": null,
            "bottom": null,
            "_model_module": "@jupyter-widgets/base",
            "top": null,
            "grid_column": null,
            "overflow_y": null,
            "overflow_x": null,
            "grid_auto_flow": null,
            "grid_area": null,
            "grid_template_columns": null,
            "flex": null,
            "_model_name": "LayoutModel",
            "justify_items": null,
            "grid_row": null,
            "max_height": null,
            "align_content": null,
            "visibility": null,
            "align_self": null,
            "height": null,
            "min_height": null,
            "padding": null,
            "grid_auto_rows": null,
            "grid_gap": null,
            "max_width": null,
            "order": null,
            "_view_module_version": "1.2.0",
            "grid_template_areas": null,
            "object_position": null,
            "object_fit": null,
            "grid_auto_columns": null,
            "margin": null,
            "display": null,
            "left": null
          }
        },
        "df53e87c07234e0a8fb2e9839c9c151f": {
          "model_module": "@jupyter-widgets/controls",
          "model_name": "ButtonStyleModel",
          "state": {
            "_view_name": "StyleView",
            "_model_name": "ButtonStyleModel",
            "_view_module": "@jupyter-widgets/base",
            "_model_module_version": "1.5.0",
            "_view_count": null,
            "button_color": null,
            "font_weight": "",
            "_view_module_version": "1.2.0",
            "_model_module": "@jupyter-widgets/controls"
          }
        },
        "9f117c23df73412991d3f5d4eb5ee393": {
          "model_module": "@jupyter-widgets/base",
          "model_name": "LayoutModel",
          "state": {
            "_view_name": "LayoutView",
            "grid_template_rows": null,
            "right": null,
            "justify_content": null,
            "_view_module": "@jupyter-widgets/base",
            "overflow": null,
            "_model_module_version": "1.2.0",
            "_view_count": null,
            "flex_flow": null,
            "width": "40px",
            "min_width": null,
            "border": null,
            "align_items": null,
            "bottom": null,
            "_model_module": "@jupyter-widgets/base",
            "top": null,
            "grid_column": null,
            "overflow_y": null,
            "overflow_x": null,
            "grid_auto_flow": null,
            "grid_area": null,
            "grid_template_columns": null,
            "flex": null,
            "_model_name": "LayoutModel",
            "justify_items": null,
            "grid_row": null,
            "max_height": null,
            "align_content": null,
            "visibility": null,
            "align_self": null,
            "height": null,
            "min_height": null,
            "padding": null,
            "grid_auto_rows": null,
            "grid_gap": null,
            "max_width": null,
            "order": null,
            "_view_module_version": "1.2.0",
            "grid_template_areas": null,
            "object_position": null,
            "object_fit": null,
            "grid_auto_columns": null,
            "margin": null,
            "display": null,
            "left": null
          }
        },
        "5d9adb657da248998a7723739c73761c": {
          "model_module": "@jupyter-widgets/controls",
          "model_name": "ButtonStyleModel",
          "state": {
            "_view_name": "StyleView",
            "_model_name": "ButtonStyleModel",
            "_view_module": "@jupyter-widgets/base",
            "_model_module_version": "1.5.0",
            "_view_count": null,
            "button_color": null,
            "font_weight": "",
            "_view_module_version": "1.2.0",
            "_model_module": "@jupyter-widgets/controls"
          }
        },
        "860f61b66c4247d48dd3f06ce569892a": {
          "model_module": "@jupyter-widgets/base",
          "model_name": "LayoutModel",
          "state": {
            "_view_name": "LayoutView",
            "grid_template_rows": null,
            "right": null,
            "justify_content": null,
            "_view_module": "@jupyter-widgets/base",
            "overflow": null,
            "_model_module_version": "1.2.0",
            "_view_count": null,
            "flex_flow": null,
            "width": "40px",
            "min_width": null,
            "border": null,
            "align_items": null,
            "bottom": null,
            "_model_module": "@jupyter-widgets/base",
            "top": null,
            "grid_column": null,
            "overflow_y": null,
            "overflow_x": null,
            "grid_auto_flow": null,
            "grid_area": null,
            "grid_template_columns": null,
            "flex": null,
            "_model_name": "LayoutModel",
            "justify_items": null,
            "grid_row": null,
            "max_height": null,
            "align_content": null,
            "visibility": null,
            "align_self": null,
            "height": null,
            "min_height": null,
            "padding": null,
            "grid_auto_rows": null,
            "grid_gap": null,
            "max_width": null,
            "order": null,
            "_view_module_version": "1.2.0",
            "grid_template_areas": null,
            "object_position": null,
            "object_fit": null,
            "grid_auto_columns": null,
            "margin": null,
            "display": null,
            "left": null
          }
        },
        "45ace1bcf5894f6090c63e7eaa2c2eaf": {
          "model_module": "@jupyter-widgets/controls",
          "model_name": "SliderStyleModel",
          "state": {
            "_view_name": "StyleView",
            "handle_color": null,
            "_model_name": "SliderStyleModel",
            "description_width": "",
            "_view_module": "@jupyter-widgets/base",
            "_model_module_version": "1.5.0",
            "_view_count": null,
            "_view_module_version": "1.2.0",
            "_model_module": "@jupyter-widgets/controls"
          }
        },
        "1b62968dde424703958d174997e5ae11": {
          "model_module": "@jupyter-widgets/base",
          "model_name": "LayoutModel",
          "state": {
            "_view_name": "LayoutView",
            "grid_template_rows": null,
            "right": null,
            "justify_content": null,
            "_view_module": "@jupyter-widgets/base",
            "overflow": null,
            "_model_module_version": "1.2.0",
            "_view_count": null,
            "flex_flow": null,
            "width": null,
            "min_width": null,
            "border": null,
            "align_items": null,
            "bottom": null,
            "_model_module": "@jupyter-widgets/base",
            "top": null,
            "grid_column": null,
            "overflow_y": null,
            "overflow_x": null,
            "grid_auto_flow": null,
            "grid_area": null,
            "grid_template_columns": null,
            "flex": null,
            "_model_name": "LayoutModel",
            "justify_items": null,
            "grid_row": null,
            "max_height": null,
            "align_content": null,
            "visibility": null,
            "align_self": null,
            "height": null,
            "min_height": null,
            "padding": null,
            "grid_auto_rows": null,
            "grid_gap": null,
            "max_width": null,
            "order": null,
            "_view_module_version": "1.2.0",
            "grid_template_areas": null,
            "object_position": null,
            "object_fit": null,
            "grid_auto_columns": null,
            "margin": null,
            "display": null,
            "left": null
          }
        },
        "47baeb43b8864790aaf2d5c4a4ac1e43": {
          "model_module": "@jupyter-widgets/base",
          "model_name": "LayoutModel",
          "state": {
            "_view_name": "LayoutView",
            "grid_template_rows": null,
            "right": null,
            "justify_content": null,
            "_view_module": "@jupyter-widgets/base",
            "overflow": null,
            "_model_module_version": "1.2.0",
            "_view_count": null,
            "flex_flow": null,
            "width": null,
            "min_width": null,
            "border": null,
            "align_items": null,
            "bottom": null,
            "_model_module": "@jupyter-widgets/base",
            "top": null,
            "grid_column": null,
            "overflow_y": null,
            "overflow_x": null,
            "grid_auto_flow": null,
            "grid_area": null,
            "grid_template_columns": null,
            "flex": null,
            "_model_name": "LayoutModel",
            "justify_items": null,
            "grid_row": null,
            "max_height": null,
            "align_content": null,
            "visibility": null,
            "align_self": null,
            "height": null,
            "min_height": null,
            "padding": null,
            "grid_auto_rows": null,
            "grid_gap": null,
            "max_width": null,
            "order": null,
            "_view_module_version": "1.2.0",
            "grid_template_areas": null,
            "object_position": null,
            "object_fit": null,
            "grid_auto_columns": null,
            "margin": null,
            "display": null,
            "left": null
          }
        },
        "51e354d5a2db4913b8f5c987bb50d4a2": {
          "model_module": "@jupyter-widgets/base",
          "model_name": "LayoutModel",
          "state": {
            "_view_name": "LayoutView",
            "grid_template_rows": null,
            "right": null,
            "justify_content": null,
            "_view_module": "@jupyter-widgets/base",
            "overflow": null,
            "_model_module_version": "1.2.0",
            "_view_count": null,
            "flex_flow": null,
            "width": null,
            "min_width": null,
            "border": null,
            "align_items": null,
            "bottom": null,
            "_model_module": "@jupyter-widgets/base",
            "top": null,
            "grid_column": null,
            "overflow_y": null,
            "overflow_x": null,
            "grid_auto_flow": null,
            "grid_area": null,
            "grid_template_columns": null,
            "flex": null,
            "_model_name": "LayoutModel",
            "justify_items": null,
            "grid_row": null,
            "max_height": null,
            "align_content": null,
            "visibility": null,
            "align_self": null,
            "height": null,
            "min_height": null,
            "padding": null,
            "grid_auto_rows": null,
            "grid_gap": null,
            "max_width": null,
            "order": null,
            "_view_module_version": "1.2.0",
            "grid_template_areas": null,
            "object_position": null,
            "object_fit": null,
            "grid_auto_columns": null,
            "margin": null,
            "display": null,
            "left": null
          }
        }
      }
    },
    "colab": {
      "name": "04_2_NFA_Problems.ipynb",
      "provenance": []
    }
  },
  "cells": [
    {
      "cell_type": "markdown",
      "metadata": {
        "run_control": {
          "frozen": false,
          "read_only": false
        },
        "id": "KfJ3BoCVVUSk"
      },
      "source": [
        "# Imports first, then the Assignment (6 Tasks)\n"
      ]
    },
    {
      "cell_type": "code",
      "metadata": {
        "run_control": {
          "frozen": false,
          "read_only": false
        },
        "scrolled": true,
        "id": "VjfjecyVVUSq",
        "outputId": "1b460c71-4e6e-4851-e23a-44c5a7267b00",
        "colab": {
          "base_uri": "https://localhost:8080/"
        }
      },
      "source": [
        "#~~~~~~~~~~~~~~~~~~~~~~~~~~~~~~~~~~~~~~~~~~~~~~~~~~~~~~~\n",
        "import sys\n",
        "\n",
        "# -- Detect if in Own Install or in Colab\n",
        "try:\n",
        "    import google.colab\n",
        "    OWN_INSTALL = False\n",
        "except:\n",
        "    OWN_INSTALL = True\n",
        "    \n",
        "if OWN_INSTALL:\n",
        "    \n",
        "  #---- Leave these definitions ON if running on laptop\n",
        "  #---- Else turn OFF by putting them between ''' ... '''\n",
        "\n",
        "  sys.path[0:0] = ['../../../../..',  '../../../../../3rdparty',  \n",
        "                   '../../../..',  '../../../../3rdparty',  \n",
        "                   '../../..',     '../../../3rdparty', \n",
        "                   '../..',        '../../3rdparty',\n",
        "                   '..',           '../3rdparty' ]\n",
        "\n",
        "else: # In colab\n",
        "  ! if [ ! -d Jove ]; then git clone https://github.com/ganeshutah/Jove Jove; fi\n",
        "  sys.path.append('./Jove')\n",
        "  sys.path.append('./Jove/jove')\n",
        "\n",
        "# -- common imports --\n",
        "from jove.DotBashers import *\n",
        "from jove.Def_md2mc  import *\n",
        "from jove.Def_NFA    import *\n",
        "from jove.Def_DFA    import *\n",
        "from jove.AnimateNFA import *\n",
        "#~~~~~~~~~~~~~~~~~~~~~~~~~~~~~~~~~~~~~~~~~~~~~~~~~~~~~~~"
      ],
      "execution_count": 1,
      "outputs": [
        {
          "output_type": "stream",
          "text": [
            "Cloning into 'Jove'...\n",
            "remote: Enumerating objects: 4634, done.\u001b[K\n",
            "remote: Total 4634 (delta 0), reused 0 (delta 0), pack-reused 4634\u001b[K\n",
            "Receiving objects: 100% (4634/4634), 7.38 MiB | 5.21 MiB/s, done.\n",
            "Resolving deltas: 100% (3005/3005), done.\n",
            "You may use any of these help commands:\n",
            "help(ResetStNum)\n",
            "help(NxtStateStr)\n",
            "\n",
            "You may use any of these help commands:\n",
            "help(md2mc)\n",
            ".. and if you want to dig more, then ..\n",
            "help(default_line_attr)\n",
            "help(length_ok_input_items)\n",
            "help(union_line_attr_list_fld)\n",
            "help(extend_rsltdict)\n",
            "help(form_delta)\n",
            "help(get_machine_components)\n",
            "\n",
            "You may use any of these help commands:\n",
            "help(mkp_dfa)\n",
            "help(mk_dfa)\n",
            "help(totalize_dfa)\n",
            "help(addtosigma_delta)\n",
            "help(step_dfa)\n",
            "help(run_dfa)\n",
            "help(accepts_dfa)\n",
            "help(comp_dfa)\n",
            "help(union_dfa)\n",
            "help(intersect_dfa)\n",
            "help(pruneUnreach)\n",
            "help(iso_dfa)\n",
            "help(langeq_dfa)\n",
            "help(same_status)\n",
            "help(h_langeq_dfa)\n",
            "help(fixptDist)\n",
            "help(min_dfa)\n",
            "help(pairFR)\n",
            "help(state_combos)\n",
            "help(sepFinNonFin)\n",
            "help(bash_eql_classes)\n",
            "help(listminus)\n",
            "help(bash_1)\n",
            "help(mk_rep_eqc)\n",
            "help(F_of)\n",
            "help(rep_of_s)\n",
            "help(q0_of)\n",
            "help(Delta_of)\n",
            "help(mk_state_eqc_name)\n",
            "\n",
            "You may use any of these help commands:\n",
            "help(mk_nfa)\n",
            "help(totalize_nfa)\n",
            "help(step_nfa)\n",
            "help(run_nfa)\n",
            "help(ec_step_nfa)\n",
            "help(Eclosure)\n",
            "help(Echelp)\n",
            "help(accepts_nfa)\n",
            "help(nfa2dfa)\n",
            "help(n2d)\n",
            "help(inSets)\n",
            "help(rev_dfa)\n",
            "help(min_dfa_brz)\n",
            "\n",
            " \"help(AnimateNFA)\" gives you info on how to use animations with NFA \n"
          ],
          "name": "stdout"
        }
      ]
    },
    {
      "cell_type": "markdown",
      "metadata": {
        "id": "DT04wI3LVUSr"
      },
      "source": [
        "# Task 1: Design an NFA for $\\{0,1\\}^* 1 0$ (\"Ends 10\")\n",
        "\n",
        "## It will be a 3-state NFA.\n",
        "\n",
        "## Name the states I, S0, and F.\n",
        "\n",
        "### Document each line of your Jove code with a short comment.\n"
      ]
    },
    {
      "cell_type": "code",
      "metadata": {
        "id": "cBW1t13aVUSs",
        "outputId": "263a1b6f-c06e-479c-acce-1e928148fdf7",
        "colab": {
          "base_uri": "https://localhost:8080/"
        }
      },
      "source": [
        "# SOLUTION\n",
        "\n",
        "nfaEnds10 = md2mc('''\n",
        "\n",
        "NFA \n",
        "I : '' -> A, G\n",
        "A : '' -> B, C\n",
        "G : 1  -> H\n",
        "B : 1  -> D\n",
        "C : 0  -> E\n",
        "D : '' -> A, G\n",
        "E : '' -> A, G\n",
        "H : 0 -> F\n",
        " \n",
        "''')"
      ],
      "execution_count": 2,
      "outputs": [
        {
          "output_type": "stream",
          "text": [
            "Generating LALR tables\n"
          ],
          "name": "stderr"
        }
      ]
    },
    {
      "cell_type": "code",
      "metadata": {
        "id": "cKNQiyyNhx-l",
        "outputId": "e7c5d745-7c76-45c6-841f-b92d580e354c",
        "colab": {
          "base_uri": "https://localhost:8080/",
          "height": 465,
          "referenced_widgets": [
            "6a7a61da002c4d65b42c94387c917763",
            "a2a4182183d544f7a52f8796b96fb7f8",
            "9faa83b6baae4fc4a3e01912e530d292",
            "3bd1f5f7d88244f083b3ddca1a5eb919",
            "b3094d52b5424370a81b8681a49251d5",
            "26415c1ee1ef4ef1ab6f3e10df98ce33",
            "aa4728bd27d04639995a8dad65251493",
            "aeb9abcdce144c428186848d8bd53ca3",
            "158e9577617a460d958ded9ac18bb7b1",
            "58a55406bea14f5d866e011c48dcdab0",
            "59f3bee8d2814ca2974be9d2fb18f46d",
            "900728a111bc40158300253f26c477d0",
            "f1243ed8d4984496852210144d854f9f",
            "902575a484804de794d1e33103dfa780",
            "6d84895e89184fed9994e364b66be2c1",
            "082339431a7d410583edbd6098a0ff12",
            "214e612e32064e7a836d3375b5feef11",
            "510e7ea6c2a84e8599eb861bcc6371be",
            "e3e22575aaf94d5297da15fc1beeadfc",
            "fd24d42c3aac4d9a988ee19803ff8d5b",
            "df53e87c07234e0a8fb2e9839c9c151f",
            "9f117c23df73412991d3f5d4eb5ee393",
            "5d9adb657da248998a7723739c73761c",
            "860f61b66c4247d48dd3f06ce569892a",
            "45ace1bcf5894f6090c63e7eaa2c2eaf",
            "1b62968dde424703958d174997e5ae11",
            "47baeb43b8864790aaf2d5c4a4ac1e43",
            "51e354d5a2db4913b8f5c987bb50d4a2"
          ]
        }
      },
      "source": [
        "AnimateNFA(nfaEnds10, FuseEdges=False)\r\n",
        "display(HTML('<link rel=\\\"stylesheet\\\" href=\\\"//stackpath.bootstrapcdn.com/font-awesome/4.7.0/css/font-awesome.min.css\\\"/>'))"
      ],
      "execution_count": 3,
      "outputs": [
        {
          "output_type": "display_data",
          "data": {
            "application/vnd.jupyter.widget-view+json": {
              "model_id": "6a7a61da002c4d65b42c94387c917763",
              "version_minor": 0,
              "version_major": 2
            },
            "text/plain": [
              "VBox(children=(HBox(children=(Text(value='', description='Input:', layout=Layout(width='500px'), placeholder='…"
            ]
          },
          "metadata": {
            "tags": []
          }
        },
        {
          "output_type": "display_data",
          "data": {
            "text/html": [
              "<link rel=\"stylesheet\" href=\"//stackpath.bootstrapcdn.com/font-awesome/4.7.0/css/font-awesome.min.css\"/>"
            ],
            "text/plain": [
              "<IPython.core.display.HTML object>"
            ]
          },
          "metadata": {
            "tags": []
          }
        }
      ]
    },
    {
      "cell_type": "markdown",
      "metadata": {
        "id": "iJ6N7f2yVUSs"
      },
      "source": [
        "# Task 2: Determine States in Animation\n",
        "\n",
        "Put the above NFA in animation, and note down the set of states attained\n",
        "after the DFA has seen every character in 10010. More detailed instructions follow."
      ]
    },
    {
      "cell_type": "markdown",
      "metadata": {
        "id": "EFrDWoY9VUSt"
      },
      "source": [
        "## Execute the cell below and follow the bulleted instructions:\n",
        "\n",
        "* When the animation pane comes up, type in 10010 and click Animate\n",
        "\n",
        "* Then click the \">|\" button, which is for single-stepping\n",
        "\n",
        "* Note down the results as you single-step, and fill answers in 1b(ii) below\n"
      ]
    },
    {
      "cell_type": "markdown",
      "metadata": {
        "id": "FyDgTcZTiSxb"
      },
      "source": [
        "\r\n",
        "1.   Initial state is on with edges leading from I -> A, G being on\r\n",
        "2.   Edges from B -> D are on and edge G -> H is on\r\n",
        "3.   Edges B -> D; D-> A, G; G -> H are on\r\n",
        "4.   States A, B, D, G, and H are on\r\n",
        "5.   Edges from C -> E and H -> F are on\r\n",
        "6.   Edges from C -> E; E -> A, G; H -> F are on\r\n",
        "7.   States A, B, C, E, G, and F are on\r\n",
        "8.   Edge from C -> E is on\r\n",
        "9.   Edges from C -> E; E -> A, G; H -> F are on\r\n",
        "10.  States A, B, C, E, and G are on\r\n",
        "11.  Edges B -> D; G -> H are on\r\n",
        "12.  Edges B -> D; D-> A, G; G -> H are on\r\n",
        "13.  States A, B, C, D, G, and H are on\r\n",
        "14.  Edges C -> E; and H -> F are on\r\n",
        "15.  Edges from C -> E; E -> A, G; H -> F are on\r\n",
        "\r\n",
        "\r\n",
        "\r\n"
      ]
    },
    {
      "cell_type": "code",
      "metadata": {
        "scrolled": false,
        "id": "oJUkTpL5VUSu"
      },
      "source": [
        "AnimateNFA(nfaEnds10, FuseEdges=False)\n",
        "display(HTML('<link rel=\\\"stylesheet\\\" href=\\\"//stackpath.bootstrapcdn.com/font-awesome/4.7.0/css/font-awesome.min.css\\\"/>'))"
      ],
      "execution_count": null,
      "outputs": []
    },
    {
      "cell_type": "markdown",
      "metadata": {
        "id": "DXk0y76dVUSu"
      },
      "source": [
        "## Provide these answers based on single-stepping the animation (please type in a SET OF STATES - else no credit). \n",
        "\n",
        "## Also say whether a token dropped out of the diagram (with the move on a symbol being undefined) and whether the state reached is final. \n",
        "\n",
        "### SET of states before consuming any of 10010 = {I}\n",
        "#### A Token Dropped Out\n",
        "\n",
        "### SET of states AFTER consuming \"1\" and before consuming \"0010\"  =  {A, B, D, G, H}\n",
        "#### A Token Dropped Out\n",
        "\n",
        "### SET of states AFTER consuming \"10\" and before consuming \"010\"  = {A, B, C, E, G, F}\n",
        "#### A Token Dropped Out\n",
        "\n",
        "### SET of states AFTER consuming \"100\" and before consuming \"10\"  = {A, B, C, E, G, F}\n",
        "#### A Token Dropped Out\n",
        "\n",
        "### SET of states AFTER consuming \"1001\" and before consuming \"0\"  = {A, B, C, E, G}\n",
        "#### A Token Dropped Out\n",
        "\n",
        "### SET of states AFTER consuming \"10010\" entirely  = {A, B, C, G, E, F}\n",
        "####  The SET of states reached is FINAL"
      ]
    },
    {
      "cell_type": "markdown",
      "metadata": {
        "id": "WMQCrAsgVUSu"
      },
      "source": [
        "# Task 3: Convert the NFA to a DFA and answer questions\n",
        "\n",
        "Convert the NFA to a DFA by the command below, and answer the questions below."
      ]
    },
    {
      "cell_type": "code",
      "metadata": {
        "id": "BpY7R-TNVUSv",
        "outputId": "c450b20b-8bc4-4fda-d124-402c7ce130c3",
        "colab": {
          "base_uri": "https://localhost:8080/",
          "height": 401
        }
      },
      "source": [
        "dotObj_dfa(nfa2dfa(nfaEnds10, STATENAME_MAXSIZE=50), STATENAME_MAXSIZE=50)"
      ],
      "execution_count": 4,
      "outputs": [
        {
          "output_type": "execute_result",
          "data": {
            "text/plain": [
              "<graphviz.dot.Digraph at 0x7f5aee5ab748>"
            ],
            "image/svg+xml": "<?xml version=\"1.0\" encoding=\"UTF-8\" standalone=\"no\"?>\n<!DOCTYPE svg PUBLIC \"-//W3C//DTD SVG 1.1//EN\"\n \"http://www.w3.org/Graphics/SVG/1.1/DTD/svg11.dtd\">\n<!-- Generated by graphviz version 2.40.1 (20161225.0304)\n -->\n<!-- Title: %3 Pages: 1 -->\n<svg width=\"792pt\" height=\"285pt\"\n viewBox=\"0.00 0.00 791.75 284.59\" xmlns=\"http://www.w3.org/2000/svg\" xmlns:xlink=\"http://www.w3.org/1999/xlink\">\n<g id=\"graph0\" class=\"graph\" transform=\"scale(1 1) rotate(0) translate(4 280.5882)\">\n<title>%3</title>\n<polygon fill=\"#ffffff\" stroke=\"transparent\" points=\"-4,4 -4,-280.5882 787.752,-280.5882 787.752,4 -4,4\"/>\n<!-- EMPTY -->\n<g id=\"node1\" class=\"node\">\n<title>EMPTY</title>\n</g>\n<!-- A_B_C_G_I -->\n<g id=\"node2\" class=\"node\">\n<title>A_B_C_G_I</title>\n<ellipse fill=\"none\" stroke=\"#000000\" cx=\"150.7947\" cy=\"-59.7947\" rx=\"59.5901\" ry=\"59.5901\"/>\n<text text-anchor=\"middle\" x=\"150.7947\" y=\"-56.0947\" font-family=\"Times,serif\" font-size=\"14.00\" fill=\"#000000\">A_B_C_G_I</text>\n</g>\n<!-- EMPTY&#45;&gt;A_B_C_G_I -->\n<g id=\"edge1\" class=\"edge\">\n<title>EMPTY&#45;&gt;A_B_C_G_I</title>\n<path fill=\"none\" stroke=\"#000000\" d=\"M54.1673,-59.7947C62.1643,-59.7947 71.3049,-59.7947 80.702,-59.7947\"/>\n<polygon fill=\"#000000\" stroke=\"#000000\" points=\"80.9577,-63.2948 90.9576,-59.7947 80.9576,-56.2948 80.9577,-63.2948\"/>\n</g>\n<!-- A_B_C_D_G_H -->\n<g id=\"node3\" class=\"node\">\n<title>A_B_C_D_G_H</title>\n<ellipse fill=\"none\" stroke=\"#000000\" cx=\"333.9827\" cy=\"-153.7947\" rx=\"75.2868\" ry=\"75.2868\"/>\n<text text-anchor=\"middle\" x=\"333.9827\" y=\"-150.0947\" font-family=\"Times,serif\" font-size=\"14.00\" fill=\"#000000\">A_B_C_D_G_H</text>\n</g>\n<!-- A_B_C_G_I&#45;&gt;A_B_C_D_G_H -->\n<g id=\"edge2\" class=\"edge\">\n<title>A_B_C_G_I&#45;&gt;A_B_C_D_G_H</title>\n<path fill=\"none\" stroke=\"#000000\" d=\"M204.2727,-87.2361C220.9098,-95.7732 239.589,-105.3581 257.4785,-114.5378\"/>\n<polygon fill=\"#000000\" stroke=\"#000000\" points=\"256.2516,-117.8421 266.7465,-119.2935 259.4474,-111.6141 256.2516,-117.8421\"/>\n<text text-anchor=\"middle\" x=\"234.5894\" y=\"-108.5947\" font-family=\"Times,serif\" font-size=\"14.00\" fill=\"#000000\">1 </text>\n</g>\n<!-- A_B_C_E_G -->\n<g id=\"node4\" class=\"node\">\n<title>A_B_C_E_G</title>\n<ellipse fill=\"none\" stroke=\"#000000\" cx=\"721.3576\" cy=\"-89.7947\" rx=\"62.2891\" ry=\"62.2891\"/>\n<text text-anchor=\"middle\" x=\"721.3576\" y=\"-86.0947\" font-family=\"Times,serif\" font-size=\"14.00\" fill=\"#000000\">A_B_C_E_G</text>\n</g>\n<!-- A_B_C_G_I&#45;&gt;A_B_C_E_G -->\n<g id=\"edge3\" class=\"edge\">\n<title>A_B_C_G_I&#45;&gt;A_B_C_E_G</title>\n<path fill=\"none\" stroke=\"#000000\" d=\"M210.8695,-60.9507C303.3756,-63.0507 486.2185,-68.4707 640.9631,-80.7947 643.6275,-81.0069 646.3401,-81.2373 649.0789,-81.482\"/>\n<polygon fill=\"#000000\" stroke=\"#000000\" points=\"648.7874,-84.9699 659.0717,-82.4237 649.4443,-78.0008 648.7874,-84.9699\"/>\n<text text-anchor=\"middle\" x=\"433.376\" y=\"-72.5947\" font-family=\"Times,serif\" font-size=\"14.00\" fill=\"#000000\">0 </text>\n</g>\n<!-- A_B_C_D_G_H&#45;&gt;A_B_C_D_G_H -->\n<g id=\"edge4\" class=\"edge\">\n<title>A_B_C_D_G_H&#45;&gt;A_B_C_D_G_H</title>\n<path fill=\"none\" stroke=\"#000000\" d=\"M317.0612,-227.3991C319.5375,-239.1468 325.178,-247.188 333.9827,-247.188 340.0359,-247.188 344.5936,-243.3873 347.6557,-237.1944\"/>\n<polygon fill=\"#000000\" stroke=\"#000000\" points=\"351.0784,-237.9925 350.9042,-227.3991 344.4342,-235.789 351.0784,-237.9925\"/>\n<text text-anchor=\"middle\" x=\"333.9827\" y=\"-250.988\" font-family=\"Times,serif\" font-size=\"14.00\" fill=\"#000000\">1 </text>\n</g>\n<!-- A_B_C_E_F_G -->\n<g id=\"node5\" class=\"node\">\n<title>A_B_C_E_F_G</title>\n<ellipse fill=\"none\" stroke=\"#000000\" cx=\"534.1696\" cy=\"-199.7947\" rx=\"72.5984\" ry=\"72.5984\"/>\n<ellipse fill=\"none\" stroke=\"#000000\" cx=\"534.1696\" cy=\"-199.7947\" rx=\"76.5876\" ry=\"76.5876\"/>\n<text text-anchor=\"middle\" x=\"534.1696\" y=\"-196.0947\" font-family=\"Times,serif\" font-size=\"14.00\" fill=\"#000000\">A_B_C_E_F_G</text>\n</g>\n<!-- A_B_C_D_G_H&#45;&gt;A_B_C_E_F_G -->\n<g id=\"edge5\" class=\"edge\">\n<title>A_B_C_D_G_H&#45;&gt;A_B_C_E_F_G</title>\n<path fill=\"none\" stroke=\"#000000\" d=\"M407.6721,-170.7274C421.2182,-173.8401 435.4593,-177.1125 449.3025,-180.2935\"/>\n<polygon fill=\"#000000\" stroke=\"#000000\" points=\"448.7667,-183.7615 459.2965,-182.59 450.3343,-176.9393 448.7667,-183.7615\"/>\n<text text-anchor=\"middle\" x=\"433.376\" y=\"-180.5947\" font-family=\"Times,serif\" font-size=\"14.00\" fill=\"#000000\">0 </text>\n</g>\n<!-- A_B_C_E_G&#45;&gt;A_B_C_D_G_H -->\n<g id=\"edge6\" class=\"edge\">\n<title>A_B_C_E_G&#45;&gt;A_B_C_D_G_H</title>\n<path fill=\"none\" stroke=\"#000000\" d=\"M658.8799,-85.2523C604.8316,-82.8961 524.9599,-83.2063 457.376,-98.7947 441.6674,-102.4179 425.4988,-108.0604 410.2497,-114.3767\"/>\n<polygon fill=\"#000000\" stroke=\"#000000\" points=\"408.7022,-111.2318 400.8861,-118.3845 411.4566,-117.6671 408.7022,-111.2318\"/>\n<text text-anchor=\"middle\" x=\"534.1696\" y=\"-102.5947\" font-family=\"Times,serif\" font-size=\"14.00\" fill=\"#000000\">1 </text>\n</g>\n<!-- A_B_C_E_G&#45;&gt;A_B_C_E_G -->\n<g id=\"edge7\" class=\"edge\">\n<title>A_B_C_E_G&#45;&gt;A_B_C_E_G</title>\n<path fill=\"none\" stroke=\"#000000\" d=\"M706.0042,-150.4466C707.8413,-162.011 712.9591,-170.1892 721.3576,-170.1892 727.1315,-170.1892 731.3548,-166.3237 734.0275,-160.1499\"/>\n<polygon fill=\"#000000\" stroke=\"#000000\" points=\"737.4188,-161.0178 736.7109,-150.4466 730.672,-159.1519 737.4188,-161.0178\"/>\n<text text-anchor=\"middle\" x=\"721.3576\" y=\"-173.9892\" font-family=\"Times,serif\" font-size=\"14.00\" fill=\"#000000\">0 </text>\n</g>\n<!-- A_B_C_E_F_G&#45;&gt;A_B_C_D_G_H -->\n<g id=\"edge8\" class=\"edge\">\n<title>A_B_C_E_F_G&#45;&gt;A_B_C_D_G_H</title>\n<path fill=\"none\" stroke=\"#000000\" d=\"M465.9832,-164.1366C457.2183,-160.7557 448.2156,-157.8344 439.376,-155.7947 433.1152,-154.3501 426.5894,-153.2641 419.989,-152.4655\"/>\n<polygon fill=\"#000000\" stroke=\"#000000\" points=\"419.8786,-148.9376 409.5828,-151.437 419.19,-155.9037 419.8786,-148.9376\"/>\n<text text-anchor=\"middle\" x=\"433.376\" y=\"-159.5947\" font-family=\"Times,serif\" font-size=\"14.00\" fill=\"#000000\">1 </text>\n</g>\n<!-- A_B_C_E_F_G&#45;&gt;A_B_C_E_G -->\n<g id=\"edge9\" class=\"edge\">\n<title>A_B_C_E_F_G&#45;&gt;A_B_C_E_G</title>\n<path fill=\"none\" stroke=\"#000000\" d=\"M600.4285,-160.858C619.4042,-149.707 640.0233,-137.5903 658.771,-126.5733\"/>\n<polygon fill=\"#000000\" stroke=\"#000000\" points=\"660.6752,-129.514 667.5235,-121.43 657.1287,-123.4789 660.6752,-129.514\"/>\n<text text-anchor=\"middle\" x=\"634.9631\" y=\"-144.5947\" font-family=\"Times,serif\" font-size=\"14.00\" fill=\"#000000\">0 </text>\n</g>\n</g>\n</svg>\n"
          },
          "metadata": {
            "tags": []
          },
          "execution_count": 4
        }
      ]
    },
    {
      "cell_type": "markdown",
      "metadata": {
        "id": "9Jve_JLYVUSw"
      },
      "source": [
        "#### State DFA is in after 10010 = ...DFA STATE...\n",
        "\n",
        "A_B_C_E_F_G\n",
        "\n",
        "#### Set of states NFA is in after 10010 (last ans of 1b(ii) ) = ...SET of NFA States...\n",
        "\n",
        "A_B_C_E_F_G\n",
        "\n",
        "#### Do the above match? Recall that for an NFA set of states (A,B), a DFA state may be named A_B or B_A. We use \"match\" in this sense.\n",
        "\n",
        "Yes\n",
        "\n",
        "#### Reason that the above should match? Please provide a sentence stating when a DFA accepts and when an NFA accepts in terms of its tokens being in many states that includes a final state.\n",
        "\n",
        "The DFA and the NFA both should return a positive end state when the input string ends with a 10. Since they both return at the same states being on, they should return the same answer"
      ]
    },
    {
      "cell_type": "markdown",
      "metadata": {
        "id": "H1Wgkh7gVUSx"
      },
      "source": [
        "# Task 4: Design an NFA for $\\{\\varepsilon, 0\\}$ \n",
        "### It will be a 2-state NFA with an IF state and a final state (call that final state \"F2\" )"
      ]
    },
    {
      "cell_type": "code",
      "metadata": {
        "id": "0oI9TQOoVUSy"
      },
      "source": [
        "nfaEps0 = md2mc('''\n",
        "NFA \n",
        " I2 : 0 -> F2\n",
        "''')"
      ],
      "execution_count": 10,
      "outputs": []
    },
    {
      "cell_type": "code",
      "metadata": {
        "id": "LhnLFR9lVUSy",
        "outputId": "c2e80406-4b13-494f-fd3d-262efa207393",
        "colab": {
          "base_uri": "https://localhost:8080/",
          "height": 98
        }
      },
      "source": [
        "dotObj_nfa(nfaEps0)"
      ],
      "execution_count": 11,
      "outputs": [
        {
          "output_type": "execute_result",
          "data": {
            "text/plain": [
              "<graphviz.dot.Digraph at 0x7f5aee69f240>"
            ],
            "image/svg+xml": "<?xml version=\"1.0\" encoding=\"UTF-8\" standalone=\"no\"?>\n<!DOCTYPE svg PUBLIC \"-//W3C//DTD SVG 1.1//EN\"\n \"http://www.w3.org/Graphics/SVG/1.1/DTD/svg11.dtd\">\n<!-- Generated by graphviz version 2.40.1 (20161225.0304)\n -->\n<!-- Title: %3 Pages: 1 -->\n<svg width=\"234pt\" height=\"58pt\"\n viewBox=\"0.00 0.00 234.29 57.60\" xmlns=\"http://www.w3.org/2000/svg\" xmlns:xlink=\"http://www.w3.org/1999/xlink\">\n<g id=\"graph0\" class=\"graph\" transform=\"scale(1 1) rotate(0) translate(4 53.5963)\">\n<title>%3</title>\n<polygon fill=\"#ffffff\" stroke=\"transparent\" points=\"-4,4 -4,-53.5963 230.293,-53.5963 230.293,4 -4,4\"/>\n<!-- EMPTY -->\n<g id=\"node1\" class=\"node\">\n<title>EMPTY</title>\n</g>\n<!-- I2 -->\n<g id=\"node2\" class=\"node\">\n<title>I2</title>\n<ellipse fill=\"none\" stroke=\"#000000\" cx=\"109.8483\" cy=\"-24.7982\" rx=\"18.6979\" ry=\"18.6979\"/>\n<text text-anchor=\"middle\" x=\"109.8483\" y=\"-21.0982\" font-family=\"Times,serif\" font-size=\"14.00\" fill=\"#000000\">I2</text>\n</g>\n<!-- EMPTY&#45;&gt;I2 -->\n<g id=\"edge1\" class=\"edge\">\n<title>EMPTY&#45;&gt;I2</title>\n<path fill=\"none\" stroke=\"#000000\" d=\"M54.1276,-24.7982C62.6494,-24.7982 72.0912,-24.7982 80.7441,-24.7982\"/>\n<polygon fill=\"#000000\" stroke=\"#000000\" points=\"80.7925,-28.2983 90.7925,-24.7982 80.7925,-21.2983 80.7925,-28.2983\"/>\n</g>\n<!-- F2 -->\n<g id=\"node3\" class=\"node\">\n<title>F2</title>\n<ellipse fill=\"none\" stroke=\"#000000\" cx=\"201.4948\" cy=\"-24.7982\" rx=\"20.6302\" ry=\"20.6302\"/>\n<ellipse fill=\"none\" stroke=\"#000000\" cx=\"201.4948\" cy=\"-24.7982\" rx=\"24.5979\" ry=\"24.5979\"/>\n<text text-anchor=\"middle\" x=\"201.4948\" y=\"-21.0982\" font-family=\"Times,serif\" font-size=\"14.00\" fill=\"#000000\">F2</text>\n</g>\n<!-- I2&#45;&gt;F2 -->\n<g id=\"edge2\" class=\"edge\">\n<title>I2&#45;&gt;F2</title>\n<path fill=\"none\" stroke=\"#000000\" d=\"M128.8375,-24.7982C139.6511,-24.7982 153.5429,-24.7982 166.2782,-24.7982\"/>\n<polygon fill=\"#000000\" stroke=\"#000000\" points=\"166.6109,-28.2983 176.6109,-24.7982 166.6108,-21.2983 166.6109,-28.2983\"/>\n<text text-anchor=\"middle\" x=\"152.6967\" y=\"-28.5982\" font-family=\"Times,serif\" font-size=\"14.00\" fill=\"#000000\">0 </text>\n</g>\n</g>\n</svg>\n"
          },
          "metadata": {
            "tags": []
          },
          "execution_count": 11
        }
      ]
    },
    {
      "cell_type": "markdown",
      "metadata": {
        "id": "igYE2EWRVUSy"
      },
      "source": [
        "# A tutorial on Concatenating NFA\n",
        "\n",
        "Watch this video, then do Task 5.\n",
        "\n",
        "To watch the video separately in Youtube in large size, \n",
        "visit https://youtu.be/VWyOT1uYfIc\n",
        "\n",
        "Otherwise just run the command below!"
      ]
    },
    {
      "cell_type": "code",
      "metadata": {
        "id": "B5_1seo_VUSz",
        "outputId": "836b7f0b-d387-4bc0-8af7-97da525061b6",
        "colab": {
          "base_uri": "https://localhost:8080/",
          "height": 321
        }
      },
      "source": [
        "# NFA Concatenation\n",
        "from IPython.display import YouTubeVideo\n",
        "YouTubeVideo('VWyOT1uYfIc')"
      ],
      "execution_count": 7,
      "outputs": [
        {
          "output_type": "execute_result",
          "data": {
            "text/html": [
              "\n",
              "        <iframe\n",
              "            width=\"400\"\n",
              "            height=\"300\"\n",
              "            src=\"https://www.youtube.com/embed/VWyOT1uYfIc\"\n",
              "            frameborder=\"0\"\n",
              "            allowfullscreen\n",
              "        ></iframe>\n",
              "        "
            ],
            "text/plain": [
              "<IPython.lib.display.YouTubeVideo at 0x7f5aee591748>"
            ],
            "image/jpeg": "[encoded data removed]"
          },
          "metadata": {
            "tags": []
          },
          "execution_count": 7
        }
      ]
    },
    {
      "cell_type": "markdown",
      "metadata": {
        "id": "JOkf_E4_VUSz"
      },
      "source": [
        "# Task 5: Develop a Concatenation NFA\n",
        "\n",
        "## Concatenate nfaEnds10 and nfaEps0 to obtain NFAEnds10Eps0.\n",
        "\n",
        "### Follow the steps in the above video.\n",
        "\n",
        "### Describe the steps in a few bullets below, then finish the notebook code cell that defines NFAEnds10Eps0 below where space is provided for your work.\n"
      ]
    },
    {
      "cell_type": "markdown",
      "metadata": {
        "id": "1pL_UfsaVUS0"
      },
      "source": [
        "# Show the full Concatenation NFA below\n"
      ]
    },
    {
      "cell_type": "code",
      "metadata": {
        "run_control": {
          "frozen": false,
          "read_only": false
        },
        "id": "kwPK2FZpVUS0"
      },
      "source": [
        "# Here is the resulting NFA\n",
        "\n",
        "NFAEnds10Eps0 = md2mc('''\n",
        "NFA \n",
        "\n",
        "!!---- Put NFA 1's transitions below, \n",
        "!!----  after suitably renaming states to make final states non-final etc.\n",
        " \n",
        "I : '' -> A, G\n",
        "A : '' -> B, C\n",
        "G : 1  -> H\n",
        "B : 1  -> D\n",
        "C : 0  -> E\n",
        "D : '' -> A, G\n",
        "E : '' -> A, G\n",
        "H : 0 -> F\n",
        " \n",
        "\n",
        "!!--- put the \"bridge\" transition below\n",
        " \n",
        "F : '' -> I2\n",
        "\n",
        "!!--- put NFA 2's transitions below, again after suitable state renamings as above\n",
        "\n",
        "I2 : 0 -> F2\n",
        "\n",
        "''')"
      ],
      "execution_count": 13,
      "outputs": []
    },
    {
      "cell_type": "markdown",
      "metadata": {
        "id": "AhD3Y7unVUS0"
      },
      "source": [
        "## Draw the concat NFA and convert to a DFA\n",
        "\n",
        "... Run the THREE commands below, and then move on to do Task 6 \n",
        "... based on the results you observe from these commands.\n"
      ]
    },
    {
      "cell_type": "code",
      "metadata": {
        "id": "ey9i-zMuVUS1",
        "outputId": "dc19292a-62fc-4c5f-fbf4-0ba7dd1683c0",
        "colab": {
          "base_uri": "https://localhost:8080/",
          "height": 393
        }
      },
      "source": [
        "# command-1\n",
        "dotObj_nfa(NFAEnds10Eps0)"
      ],
      "execution_count": 14,
      "outputs": [
        {
          "output_type": "execute_result",
          "data": {
            "text/plain": [
              "<graphviz.dot.Digraph at 0x7f5aef55b240>"
            ],
            "image/svg+xml": "<?xml version=\"1.0\" encoding=\"UTF-8\" standalone=\"no\"?>\n<!DOCTYPE svg PUBLIC \"-//W3C//DTD SVG 1.1//EN\"\n \"http://www.w3.org/Graphics/SVG/1.1/DTD/svg11.dtd\">\n<!-- Generated by graphviz version 2.40.1 (20161225.0304)\n -->\n<!-- Title: %3 Pages: 1 -->\n<svg width=\"818pt\" height=\"279pt\"\n viewBox=\"0.00 0.00 818.29 279.00\" xmlns=\"http://www.w3.org/2000/svg\" xmlns:xlink=\"http://www.w3.org/1999/xlink\">\n<g id=\"graph0\" class=\"graph\" transform=\"scale(1 1) rotate(0) translate(4 275)\">\n<title>%3</title>\n<polygon fill=\"#ffffff\" stroke=\"transparent\" points=\"-4,4 -4,-275 814.293,-275 814.293,4 -4,4\"/>\n<!-- EMPTY -->\n<g id=\"node1\" class=\"node\">\n<title>EMPTY</title>\n</g>\n<!-- I2 -->\n<g id=\"node2\" class=\"node\">\n<title>I2</title>\n<ellipse fill=\"none\" stroke=\"#000000\" cx=\"693.8483\" cy=\"-246\" rx=\"18.6979\" ry=\"18.6979\"/>\n<text text-anchor=\"middle\" x=\"693.8483\" y=\"-242.3\" font-family=\"Times,serif\" font-size=\"14.00\" fill=\"#000000\">I2</text>\n</g>\n<!-- EMPTY&#45;&gt;I2 -->\n<g id=\"edge1\" class=\"edge\">\n<title>EMPTY&#45;&gt;I2</title>\n<path fill=\"none\" stroke=\"#000000\" d=\"M54.1763,-259.6348C69.8948,-265.3395 90.2224,-271 109,-271 109,-271 109,-271 608,-271 628.3113,-271 650.2864,-264.4692 666.9185,-258.0835\"/>\n<polygon fill=\"#000000\" stroke=\"#000000\" points=\"668.5717,-261.1899 676.5213,-254.1859 665.9391,-254.7038 668.5717,-261.1899\"/>\n</g>\n<!-- I -->\n<g id=\"node9\" class=\"node\">\n<title>I</title>\n<ellipse fill=\"none\" stroke=\"#000000\" cx=\"109\" cy=\"-225\" rx=\"18\" ry=\"18\"/>\n<text text-anchor=\"middle\" x=\"109\" y=\"-221.3\" font-family=\"Times,serif\" font-size=\"14.00\" fill=\"#000000\">I</text>\n</g>\n<!-- EMPTY&#45;&gt;I -->\n<g id=\"edge2\" class=\"edge\">\n<title>EMPTY&#45;&gt;I</title>\n<path fill=\"none\" stroke=\"#000000\" d=\"M54.3048,-240.3413C63.1452,-237.8617 72.9453,-235.1129 81.7795,-232.635\"/>\n<polygon fill=\"#000000\" stroke=\"#000000\" points=\"82.9079,-235.9537 91.5911,-229.883 81.0174,-229.2138 82.9079,-235.9537\"/>\n</g>\n<!-- F2 -->\n<g id=\"node12\" class=\"node\">\n<title>F2</title>\n<ellipse fill=\"none\" stroke=\"#000000\" cx=\"785.4948\" cy=\"-246\" rx=\"20.6302\" ry=\"20.6302\"/>\n<ellipse fill=\"none\" stroke=\"#000000\" cx=\"785.4948\" cy=\"-246\" rx=\"24.5979\" ry=\"24.5979\"/>\n<text text-anchor=\"middle\" x=\"785.4948\" y=\"-242.3\" font-family=\"Times,serif\" font-size=\"14.00\" fill=\"#000000\">F2</text>\n</g>\n<!-- I2&#45;&gt;F2 -->\n<g id=\"edge16\" class=\"edge\">\n<title>I2&#45;&gt;F2</title>\n<path fill=\"none\" stroke=\"#000000\" d=\"M712.8375,-246C723.6511,-246 737.5429,-246 750.2782,-246\"/>\n<polygon fill=\"#000000\" stroke=\"#000000\" points=\"750.6109,-249.5001 760.6109,-246 750.6108,-242.5001 750.6109,-249.5001\"/>\n<text text-anchor=\"middle\" x=\"736.6967\" y=\"-249.8\" font-family=\"Times,serif\" font-size=\"14.00\" fill=\"#000000\">0 </text>\n</g>\n<!-- E -->\n<g id=\"node3\" class=\"node\">\n<title>E</title>\n<ellipse fill=\"none\" stroke=\"#000000\" cx=\"355\" cy=\"-174\" rx=\"18\" ry=\"18\"/>\n<text text-anchor=\"middle\" x=\"355\" y=\"-170.3\" font-family=\"Times,serif\" font-size=\"14.00\" fill=\"#000000\">E</text>\n</g>\n<!-- A -->\n<g id=\"node6\" class=\"node\">\n<title>A</title>\n<ellipse fill=\"none\" stroke=\"#000000\" cx=\"190\" cy=\"-123\" rx=\"18\" ry=\"18\"/>\n<text text-anchor=\"middle\" x=\"190\" y=\"-119.3\" font-family=\"Times,serif\" font-size=\"14.00\" fill=\"#000000\">A</text>\n</g>\n<!-- E&#45;&gt;A -->\n<g id=\"edge13\" class=\"edge\">\n<title>E&#45;&gt;A</title>\n<path fill=\"none\" stroke=\"#000000\" d=\"M340.8466,-162.1365C328.143,-152.2212 308.5389,-138.6641 289,-132 266.0157,-124.1608 238.3885,-122.2202 218.1663,-122.0622\"/>\n<polygon fill=\"#000000\" stroke=\"#000000\" points=\"218.0284,-118.5629 208.0506,-122.1259 218.0725,-125.5628 218.0284,-118.5629\"/>\n<text text-anchor=\"middle\" x=\"271\" y=\"-135.8\" font-family=\"Times,serif\" font-size=\"14.00\" fill=\"#000000\">&#39;&#39; </text>\n</g>\n<!-- G -->\n<g id=\"node7\" class=\"node\">\n<title>G</title>\n<ellipse fill=\"none\" stroke=\"#000000\" cx=\"436\" cy=\"-187\" rx=\"18\" ry=\"18\"/>\n<text text-anchor=\"middle\" x=\"436\" y=\"-183.3\" font-family=\"Times,serif\" font-size=\"14.00\" fill=\"#000000\">G</text>\n</g>\n<!-- E&#45;&gt;G -->\n<g id=\"edge12\" class=\"edge\">\n<title>E&#45;&gt;G</title>\n<path fill=\"none\" stroke=\"#000000\" d=\"M372.9765,-176.8851C383.2536,-178.5345 396.3678,-180.6393 407.9693,-182.5012\"/>\n<polygon fill=\"#000000\" stroke=\"#000000\" points=\"407.6454,-185.994 418.0737,-184.1229 408.7547,-179.0824 407.6454,-185.994\"/>\n<text text-anchor=\"middle\" x=\"395.5\" y=\"-184.8\" font-family=\"Times,serif\" font-size=\"14.00\" fill=\"#000000\">&#39;&#39; </text>\n</g>\n<!-- H -->\n<g id=\"node4\" class=\"node\">\n<title>H</title>\n<ellipse fill=\"none\" stroke=\"#000000\" cx=\"520\" cy=\"-211\" rx=\"18\" ry=\"18\"/>\n<text text-anchor=\"middle\" x=\"520\" y=\"-207.3\" font-family=\"Times,serif\" font-size=\"14.00\" fill=\"#000000\">H</text>\n</g>\n<!-- F -->\n<g id=\"node11\" class=\"node\">\n<title>F</title>\n<ellipse fill=\"none\" stroke=\"#000000\" cx=\"608\" cy=\"-220\" rx=\"18\" ry=\"18\"/>\n<ellipse fill=\"none\" stroke=\"#000000\" cx=\"608\" cy=\"-220\" rx=\"22\" ry=\"22\"/>\n<text text-anchor=\"middle\" x=\"608\" y=\"-216.3\" font-family=\"Times,serif\" font-size=\"14.00\" fill=\"#000000\">F</text>\n</g>\n<!-- H&#45;&gt;F -->\n<g id=\"edge14\" class=\"edge\">\n<title>H&#45;&gt;F</title>\n<path fill=\"none\" stroke=\"#000000\" d=\"M538.2337,-212.8648C549.0889,-213.975 563.1748,-215.4156 575.8449,-216.7114\"/>\n<polygon fill=\"#000000\" stroke=\"#000000\" points=\"575.7485,-220.2197 586.0528,-217.7554 576.4608,-213.256 575.7485,-220.2197\"/>\n<text text-anchor=\"middle\" x=\"562\" y=\"-219.8\" font-family=\"Times,serif\" font-size=\"14.00\" fill=\"#000000\">0 </text>\n</g>\n<!-- D -->\n<g id=\"node5\" class=\"node\">\n<title>D</title>\n<ellipse fill=\"none\" stroke=\"#000000\" cx=\"355\" cy=\"-72\" rx=\"18\" ry=\"18\"/>\n<text text-anchor=\"middle\" x=\"355\" y=\"-68.3\" font-family=\"Times,serif\" font-size=\"14.00\" fill=\"#000000\">D</text>\n</g>\n<!-- D&#45;&gt;A -->\n<g id=\"edge11\" class=\"edge\">\n<title>D&#45;&gt;A</title>\n<path fill=\"none\" stroke=\"#000000\" d=\"M336.8137,-72.3545C316.0165,-73.2438 281.2034,-76.2224 253,-86 239.0043,-90.8521 224.6675,-98.9769 213.2133,-106.3789\"/>\n<polygon fill=\"#000000\" stroke=\"#000000\" points=\"211.0625,-103.6071 204.7068,-112.0839 214.9615,-109.4207 211.0625,-103.6071\"/>\n<text text-anchor=\"middle\" x=\"271\" y=\"-89.8\" font-family=\"Times,serif\" font-size=\"14.00\" fill=\"#000000\">&#39;&#39; </text>\n</g>\n<!-- D&#45;&gt;G -->\n<g id=\"edge10\" class=\"edge\">\n<title>D&#45;&gt;G</title>\n<path fill=\"none\" stroke=\"#000000\" d=\"M365.5893,-87.0342C379.2938,-106.4911 403.3219,-140.6052 419.447,-163.4988\"/>\n<polygon fill=\"#000000\" stroke=\"#000000\" points=\"416.7881,-165.8019 425.4081,-171.9621 422.511,-161.771 416.7881,-165.8019\"/>\n<text text-anchor=\"middle\" x=\"395.5\" y=\"-136.8\" font-family=\"Times,serif\" font-size=\"14.00\" fill=\"#000000\">&#39;&#39; </text>\n</g>\n<!-- B -->\n<g id=\"node8\" class=\"node\">\n<title>B</title>\n<ellipse fill=\"none\" stroke=\"#000000\" cx=\"271\" cy=\"-18\" rx=\"18\" ry=\"18\"/>\n<text text-anchor=\"middle\" x=\"271\" y=\"-14.3\" font-family=\"Times,serif\" font-size=\"14.00\" fill=\"#000000\">B</text>\n</g>\n<!-- A&#45;&gt;B -->\n<g id=\"edge5\" class=\"edge\">\n<title>A&#45;&gt;B</title>\n<path fill=\"none\" stroke=\"#000000\" d=\"M194.4338,-105.2566C199.5698,-87.7061 209.5097,-60.9415 226,-43 231.2389,-37.3 238.0849,-32.5951 244.8504,-28.8643\"/>\n<polygon fill=\"#000000\" stroke=\"#000000\" points=\"246.4731,-31.9663 253.8679,-24.379 243.3556,-25.6989 246.4731,-31.9663\"/>\n<text text-anchor=\"middle\" x=\"230.5\" y=\"-46.8\" font-family=\"Times,serif\" font-size=\"14.00\" fill=\"#000000\">&#39;&#39; </text>\n</g>\n<!-- C -->\n<g id=\"node10\" class=\"node\">\n<title>C</title>\n<ellipse fill=\"none\" stroke=\"#000000\" cx=\"271\" cy=\"-174\" rx=\"18\" ry=\"18\"/>\n<text text-anchor=\"middle\" x=\"271\" y=\"-170.3\" font-family=\"Times,serif\" font-size=\"14.00\" fill=\"#000000\">C</text>\n</g>\n<!-- A&#45;&gt;C -->\n<g id=\"edge6\" class=\"edge\">\n<title>A&#45;&gt;C</title>\n<path fill=\"none\" stroke=\"#000000\" d=\"M205.2355,-132.5927C216.9272,-139.9542 233.2961,-150.2605 246.778,-158.7491\"/>\n<polygon fill=\"#000000\" stroke=\"#000000\" points=\"245.2302,-161.9105 255.5574,-164.2769 248.96,-155.9869 245.2302,-161.9105\"/>\n<text text-anchor=\"middle\" x=\"230.5\" y=\"-154.8\" font-family=\"Times,serif\" font-size=\"14.00\" fill=\"#000000\">&#39;&#39; </text>\n</g>\n<!-- G&#45;&gt;H -->\n<g id=\"edge7\" class=\"edge\">\n<title>G&#45;&gt;H</title>\n<path fill=\"none\" stroke=\"#000000\" d=\"M453.4049,-191.9728C464.7804,-195.223 479.8725,-199.535 492.8129,-203.2323\"/>\n<polygon fill=\"#000000\" stroke=\"#000000\" points=\"492.0407,-206.6516 502.6174,-206.0336 493.9637,-199.9209 492.0407,-206.6516\"/>\n<text text-anchor=\"middle\" x=\"478\" y=\"-204.8\" font-family=\"Times,serif\" font-size=\"14.00\" fill=\"#000000\">1 </text>\n</g>\n<!-- B&#45;&gt;D -->\n<g id=\"edge8\" class=\"edge\">\n<title>B&#45;&gt;D</title>\n<path fill=\"none\" stroke=\"#000000\" d=\"M287.4509,-25.5632C296.9345,-30.1677 308.9345,-36.4177 319,-43 323.8698,-46.1846 328.8686,-49.8913 333.5328,-53.569\"/>\n<polygon fill=\"#000000\" stroke=\"#000000\" points=\"331.505,-56.4316 341.4669,-60.0385 335.9286,-51.0065 331.505,-56.4316\"/>\n<text text-anchor=\"middle\" x=\"313\" y=\"-46.8\" font-family=\"Times,serif\" font-size=\"14.00\" fill=\"#000000\">1 </text>\n</g>\n<!-- I&#45;&gt;A -->\n<g id=\"edge4\" class=\"edge\">\n<title>I&#45;&gt;A</title>\n<path fill=\"none\" stroke=\"#000000\" d=\"M120.2627,-210.8173C133.7275,-193.8617 156.4244,-165.2804 172.2547,-145.3459\"/>\n<polygon fill=\"#000000\" stroke=\"#000000\" points=\"175.0939,-147.3988 178.5718,-137.391 169.6121,-143.0456 175.0939,-147.3988\"/>\n<text text-anchor=\"middle\" x=\"149.5\" y=\"-181.8\" font-family=\"Times,serif\" font-size=\"14.00\" fill=\"#000000\">&#39;&#39; </text>\n</g>\n<!-- I&#45;&gt;G -->\n<g id=\"edge3\" class=\"edge\">\n<title>I&#45;&gt;G</title>\n<path fill=\"none\" stroke=\"#000000\" d=\"M127.0088,-226.0493C143.4188,-226.9144 168.3289,-228 190,-228 190,-228 190,-228 355,-228 376.7396,-228 398.5668,-216.098 414.0764,-205.1193\"/>\n<polygon fill=\"#000000\" stroke=\"#000000\" points=\"416.5266,-207.6569 422.4297,-198.8589 412.3286,-202.0554 416.5266,-207.6569\"/>\n<text text-anchor=\"middle\" x=\"271\" y=\"-231.8\" font-family=\"Times,serif\" font-size=\"14.00\" fill=\"#000000\">&#39;&#39; </text>\n</g>\n<!-- C&#45;&gt;E -->\n<g id=\"edge9\" class=\"edge\">\n<title>C&#45;&gt;E</title>\n<path fill=\"none\" stroke=\"#000000\" d=\"M289.2267,-174C300.1242,-174 314.2054,-174 326.5413,-174\"/>\n<polygon fill=\"#000000\" stroke=\"#000000\" points=\"326.8089,-177.5001 336.8088,-174 326.8088,-170.5001 326.8089,-177.5001\"/>\n<text text-anchor=\"middle\" x=\"313\" y=\"-177.8\" font-family=\"Times,serif\" font-size=\"14.00\" fill=\"#000000\">0 </text>\n</g>\n<!-- F&#45;&gt;I2 -->\n<g id=\"edge15\" class=\"edge\">\n<title>F&#45;&gt;I2</title>\n<path fill=\"none\" stroke=\"#000000\" d=\"M629.2209,-226.427C640.2811,-229.7766 653.95,-233.9164 665.8644,-237.5248\"/>\n<polygon fill=\"#000000\" stroke=\"#000000\" points=\"665.188,-240.9769 675.7732,-240.5258 667.217,-234.2774 665.188,-240.9769\"/>\n<text text-anchor=\"middle\" x=\"652.5\" y=\"-237.8\" font-family=\"Times,serif\" font-size=\"14.00\" fill=\"#000000\">&#39;&#39; </text>\n</g>\n</g>\n</svg>\n"
          },
          "metadata": {
            "tags": []
          },
          "execution_count": 14
        }
      ]
    },
    {
      "cell_type": "code",
      "metadata": {
        "id": "JUm23RCDVUS1",
        "outputId": "e8e0fed3-15fa-4661-aa1f-f977ce0e9195",
        "colab": {
          "base_uri": "https://localhost:8080/",
          "height": 489
        }
      },
      "source": [
        "# command-2\n",
        "\n",
        "dotObj_dfa(nfa2dfa(NFAEnds10Eps0, STATENAME_MAXSIZE=50), STATENAME_MAXSIZE=50)"
      ],
      "execution_count": 15,
      "outputs": [
        {
          "output_type": "execute_result",
          "data": {
            "text/plain": [
              "<graphviz.dot.Digraph at 0x7f5aee690320>"
            ],
            "image/svg+xml": "<?xml version=\"1.0\" encoding=\"UTF-8\" standalone=\"no\"?>\n<!DOCTYPE svg PUBLIC \"-//W3C//DTD SVG 1.1//EN\"\n \"http://www.w3.org/Graphics/SVG/1.1/DTD/svg11.dtd\">\n<!-- Generated by graphviz version 2.40.1 (20161225.0304)\n -->\n<!-- Title: %3 Pages: 1 -->\n<svg width=\"1052pt\" height=\"351pt\"\n viewBox=\"0.00 0.00 1051.83 351.39\" xmlns=\"http://www.w3.org/2000/svg\" xmlns:xlink=\"http://www.w3.org/1999/xlink\">\n<g id=\"graph0\" class=\"graph\" transform=\"scale(1 1) rotate(0) translate(4 347.3945)\">\n<title>%3</title>\n<polygon fill=\"#ffffff\" stroke=\"transparent\" points=\"-4,4 -4,-347.3945 1047.8339,-347.3945 1047.8339,4 -4,4\"/>\n<!-- EMPTY -->\n<g id=\"node1\" class=\"node\">\n<title>EMPTY</title>\n</g>\n<!-- A_B_C_G_I_I2 -->\n<g id=\"node2\" class=\"node\">\n<title>A_B_C_G_I_I2</title>\n<ellipse fill=\"none\" stroke=\"#000000\" cx=\"163.1436\" cy=\"-263.3945\" rx=\"72.2875\" ry=\"72.2875\"/>\n<text text-anchor=\"middle\" x=\"163.1436\" y=\"-259.6945\" font-family=\"Times,serif\" font-size=\"14.00\" fill=\"#000000\">A_B_C_G_I_I2</text>\n</g>\n<!-- EMPTY&#45;&gt;A_B_C_G_I_I2 -->\n<g id=\"edge1\" class=\"edge\">\n<title>EMPTY&#45;&gt;A_B_C_G_I_I2</title>\n<path fill=\"none\" stroke=\"#000000\" d=\"M54.2235,-263.3945C62.1712,-263.3945 71.2978,-263.3945 80.8137,-263.3945\"/>\n<polygon fill=\"#000000\" stroke=\"#000000\" points=\"80.838,-266.8946 90.8379,-263.3945 80.8379,-259.8946 80.838,-266.8946\"/>\n</g>\n<!-- A_B_C_D_G_H -->\n<g id=\"node3\" class=\"node\">\n<title>A_B_C_D_G_H</title>\n<ellipse fill=\"none\" stroke=\"#000000\" cx=\"358.6805\" cy=\"-195.3945\" rx=\"75.2868\" ry=\"75.2868\"/>\n<text text-anchor=\"middle\" x=\"358.6805\" y=\"-191.6945\" font-family=\"Times,serif\" font-size=\"14.00\" fill=\"#000000\">A_B_C_D_G_H</text>\n</g>\n<!-- A_B_C_G_I_I2&#45;&gt;A_B_C_D_G_H -->\n<g id=\"edge2\" class=\"edge\">\n<title>A_B_C_G_I_I2&#45;&gt;A_B_C_D_G_H</title>\n<path fill=\"none\" stroke=\"#000000\" d=\"M231.5329,-239.6114C246.4901,-234.4098 262.4586,-228.8566 277.8496,-223.5043\"/>\n<polygon fill=\"#000000\" stroke=\"#000000\" points=\"279.0482,-226.7931 287.3437,-220.2026 276.7489,-220.1815 279.0482,-226.7931\"/>\n<text text-anchor=\"middle\" x=\"259.2872\" y=\"-235.1945\" font-family=\"Times,serif\" font-size=\"14.00\" fill=\"#000000\">1 </text>\n</g>\n<!-- A_B_C_E_F2_G -->\n<g id=\"node6\" class=\"node\">\n<title>A_B_C_E_F2_G</title>\n<ellipse fill=\"none\" stroke=\"#000000\" cx=\"789.7018\" cy=\"-250.3945\" rx=\"77.1943\" ry=\"77.1943\"/>\n<ellipse fill=\"none\" stroke=\"#000000\" cx=\"789.7018\" cy=\"-250.3945\" rx=\"81.1866\" ry=\"81.1866\"/>\n<text text-anchor=\"middle\" x=\"789.7018\" y=\"-246.6945\" font-family=\"Times,serif\" font-size=\"14.00\" fill=\"#000000\">A_B_C_E_F2_G</text>\n</g>\n<!-- A_B_C_G_I_I2&#45;&gt;A_B_C_E_F2_G -->\n<g id=\"edge3\" class=\"edge\">\n<title>A_B_C_G_I_I2&#45;&gt;A_B_C_E_F2_G</title>\n<path fill=\"none\" stroke=\"#000000\" d=\"M228.1376,-295.2261C245.6303,-302.3039 264.8292,-308.7752 283.2872,-312.3945 447.974,-344.6866 495.9167,-325.911 660.3587,-292.3945 674.456,-289.5212 689.1707,-285.636 703.4101,-281.3834\"/>\n<polygon fill=\"#000000\" stroke=\"#000000\" points=\"704.644,-284.666 713.1789,-278.3886 702.5922,-277.9735 704.644,-284.666\"/>\n<text text-anchor=\"middle\" x=\"458.0738\" y=\"-332.1945\" font-family=\"Times,serif\" font-size=\"14.00\" fill=\"#000000\">0 </text>\n</g>\n<!-- A_B_C_D_G_H&#45;&gt;A_B_C_D_G_H -->\n<g id=\"edge4\" class=\"edge\">\n<title>A_B_C_D_G_H&#45;&gt;A_B_C_D_G_H</title>\n<path fill=\"none\" stroke=\"#000000\" d=\"M341.759,-268.9989C344.2353,-280.7466 349.8758,-288.7878 358.6805,-288.7878 364.7337,-288.7878 369.2914,-284.9871 372.3535,-278.7942\"/>\n<polygon fill=\"#000000\" stroke=\"#000000\" points=\"375.7762,-279.5923 375.602,-268.9989 369.132,-277.3888 375.7762,-279.5923\"/>\n<text text-anchor=\"middle\" x=\"358.6805\" y=\"-292.5878\" font-family=\"Times,serif\" font-size=\"14.00\" fill=\"#000000\">1 </text>\n</g>\n<!-- A_B_C_E_F_G_I2 -->\n<g id=\"node5\" class=\"node\">\n<title>A_B_C_E_F_G_I2</title>\n<ellipse fill=\"none\" stroke=\"#000000\" cx=\"571.2163\" cy=\"-163.3945\" rx=\"85.2787\" ry=\"85.2787\"/>\n<ellipse fill=\"none\" stroke=\"#000000\" cx=\"571.2163\" cy=\"-163.3945\" rx=\"89.2851\" ry=\"89.2851\"/>\n<text text-anchor=\"middle\" x=\"571.2163\" y=\"-159.6945\" font-family=\"Times,serif\" font-size=\"14.00\" fill=\"#000000\">A_B_C_E_F_G_I2</text>\n</g>\n<!-- A_B_C_D_G_H&#45;&gt;A_B_C_E_F_G_I2 -->\n<g id=\"edge5\" class=\"edge\">\n<title>A_B_C_D_G_H&#45;&gt;A_B_C_E_F_G_I2</title>\n<path fill=\"none\" stroke=\"#000000\" d=\"M433.3138,-184.1575C446.0859,-182.2345 459.5287,-180.2105 472.8071,-178.2112\"/>\n<polygon fill=\"#000000\" stroke=\"#000000\" points=\"473.5478,-181.6393 482.9152,-176.6893 472.5055,-174.7173 473.5478,-181.6393\"/>\n<text text-anchor=\"middle\" x=\"458.0738\" y=\"-184.1945\" font-family=\"Times,serif\" font-size=\"14.00\" fill=\"#000000\">0 </text>\n</g>\n<!-- A_B_C_E_G -->\n<g id=\"node4\" class=\"node\">\n<title>A_B_C_E_G</title>\n<ellipse fill=\"none\" stroke=\"#000000\" cx=\"981.4394\" cy=\"-62.3945\" rx=\"62.2891\" ry=\"62.2891\"/>\n<text text-anchor=\"middle\" x=\"981.4394\" y=\"-58.6945\" font-family=\"Times,serif\" font-size=\"14.00\" fill=\"#000000\">A_B_C_E_G</text>\n</g>\n<!-- A_B_C_E_G&#45;&gt;A_B_C_D_G_H -->\n<g id=\"edge10\" class=\"edge\">\n<title>A_B_C_E_G&#45;&gt;A_B_C_D_G_H</title>\n<path fill=\"none\" stroke=\"#000000\" d=\"M920.6865,-48.0881C823.4409,-28.3239 628.8532,-1.82 482.0738,-65.3945 452.9563,-78.0061 427.4572,-101.1973 407.3137,-124.5387\"/>\n<polygon fill=\"#000000\" stroke=\"#000000\" points=\"404.429,-122.5319 400.6903,-132.4451 409.795,-127.0271 404.429,-122.5319\"/>\n<text text-anchor=\"middle\" x=\"684.3587\" y=\"-30.1945\" font-family=\"Times,serif\" font-size=\"14.00\" fill=\"#000000\">1 </text>\n</g>\n<!-- A_B_C_E_G&#45;&gt;A_B_C_E_G -->\n<g id=\"edge11\" class=\"edge\">\n<title>A_B_C_E_G&#45;&gt;A_B_C_E_G</title>\n<path fill=\"none\" stroke=\"#000000\" d=\"M966.0861,-123.0464C967.9232,-134.6108 973.041,-142.7889 981.4394,-142.7889 987.2134,-142.7889 991.4367,-138.9235 994.1094,-132.7497\"/>\n<polygon fill=\"#000000\" stroke=\"#000000\" points=\"997.5007,-133.6175 996.7928,-123.0464 990.7539,-131.7517 997.5007,-133.6175\"/>\n<text text-anchor=\"middle\" x=\"981.4394\" y=\"-146.5889\" font-family=\"Times,serif\" font-size=\"14.00\" fill=\"#000000\">0 </text>\n</g>\n<!-- A_B_C_E_F_G_I2&#45;&gt;A_B_C_D_G_H -->\n<g id=\"edge8\" class=\"edge\">\n<title>A_B_C_E_F_G_I2&#45;&gt;A_B_C_D_G_H</title>\n<path fill=\"none\" stroke=\"#000000\" d=\"M482.1018,-157.1783C471.9283,-157.643 461.7445,-158.6419 452.0738,-160.3945 447.4204,-161.2378 442.6968,-162.2996 437.9711,-163.5236\"/>\n<polygon fill=\"#000000\" stroke=\"#000000\" points=\"436.9688,-160.1696 428.2895,-166.2458 438.8636,-166.9082 436.9688,-160.1696\"/>\n<text text-anchor=\"middle\" x=\"458.0738\" y=\"-164.1945\" font-family=\"Times,serif\" font-size=\"14.00\" fill=\"#000000\">1 </text>\n</g>\n<!-- A_B_C_E_F_G_I2&#45;&gt;A_B_C_E_F2_G -->\n<g id=\"edge9\" class=\"edge\">\n<title>A_B_C_E_F_G_I2&#45;&gt;A_B_C_E_F2_G</title>\n<path fill=\"none\" stroke=\"#000000\" d=\"M654.1278,-196.4095C670.5767,-202.9593 687.8725,-209.8465 704.3994,-216.4274\"/>\n<polygon fill=\"#000000\" stroke=\"#000000\" points=\"703.4438,-219.8141 714.0292,-220.2619 706.0335,-213.3107 703.4438,-219.8141\"/>\n<text text-anchor=\"middle\" x=\"684.3587\" y=\"-213.1945\" font-family=\"Times,serif\" font-size=\"14.00\" fill=\"#000000\">0 </text>\n</g>\n<!-- A_B_C_E_F2_G&#45;&gt;A_B_C_D_G_H -->\n<g id=\"edge6\" class=\"edge\">\n<title>A_B_C_E_F2_G&#45;&gt;A_B_C_D_G_H</title>\n<path fill=\"none\" stroke=\"#000000\" d=\"M709.7168,-265.2944C646.8665,-274.1396 557.6282,-280.3312 482.0738,-261.3945 464.6759,-257.0339 447.0502,-249.6992 430.7752,-241.4686\"/>\n<polygon fill=\"#000000\" stroke=\"#000000\" points=\"432.3657,-238.3507 421.8824,-236.817 429.1212,-244.5534 432.3657,-238.3507\"/>\n<text text-anchor=\"middle\" x=\"571.2163\" y=\"-277.1945\" font-family=\"Times,serif\" font-size=\"14.00\" fill=\"#000000\">1 </text>\n</g>\n<!-- A_B_C_E_F2_G&#45;&gt;A_B_C_E_G -->\n<g id=\"edge7\" class=\"edge\">\n<title>A_B_C_E_F2_G&#45;&gt;A_B_C_E_G</title>\n<path fill=\"none\" stroke=\"#000000\" d=\"M848.0104,-193.2225C873.9823,-167.7569 904.3228,-138.0079 929.5036,-113.3179\"/>\n<polygon fill=\"#000000\" stroke=\"#000000\" points=\"932.1107,-115.6634 936.8007,-106.1631 927.2099,-110.6651 932.1107,-115.6634\"/>\n<text text-anchor=\"middle\" x=\"895.045\" y=\"-154.1945\" font-family=\"Times,serif\" font-size=\"14.00\" fill=\"#000000\">0 </text>\n</g>\n</g>\n</svg>\n"
          },
          "metadata": {
            "tags": []
          },
          "execution_count": 15
        }
      ]
    },
    {
      "cell_type": "code",
      "metadata": {
        "run_control": {
          "frozen": false,
          "read_only": false
        },
        "id": "Z-oiosoSVUS1",
        "outputId": "95b2c1cc-5262-420a-ad56-f1279f602513",
        "colab": {
          "base_uri": "https://localhost:8080/"
        }
      },
      "source": [
        "# Let us see its internal representation -- this may give you hints for doing Task 6.\n",
        "\n",
        "# command-3\n",
        "\n",
        "NFAEnds10Eps0"
      ],
      "execution_count": 16,
      "outputs": [
        {
          "output_type": "execute_result",
          "data": {
            "text/plain": [
              "{'Delta': {('A', ''): {'B', 'C'},\n",
              "  ('B', '1'): {'D'},\n",
              "  ('C', '0'): {'E'},\n",
              "  ('D', ''): {'A', 'G'},\n",
              "  ('E', ''): {'A', 'G'},\n",
              "  ('F', ''): {'I2'},\n",
              "  ('G', '1'): {'H'},\n",
              "  ('H', '0'): {'F'},\n",
              "  ('I', ''): {'A', 'G'},\n",
              "  ('I2', '0'): {'F2'}},\n",
              " 'F': {'F', 'F2'},\n",
              " 'Q': {'A', 'B', 'C', 'D', 'E', 'F', 'F2', 'G', 'H', 'I', 'I2'},\n",
              " 'Q0': {'I', 'I2'},\n",
              " 'Sigma': {'0', '1'}}"
            ]
          },
          "metadata": {
            "tags": []
          },
          "execution_count": 16
        }
      ]
    },
    {
      "cell_type": "markdown",
      "metadata": {
        "id": "R0ZbqdHkVUS1"
      },
      "source": [
        "# Task 6: Explain the NFA2DFA algorithm\n",
        "\n",
        "Below, you must explain the states of the DFA that resulted from converting the\n",
        "NFA to DFA using subset construction. \n",
        "\n",
        "You must look at the results of running command-1, command-2, and command-3 in your explanation.\n",
        "\n",
        "For each question, your answer must be in the following form:\n",
        "\n",
        "* Currently the NFA is in a *set* of states, say S1. That is already an E-closed state. That is where the DFA begins its operation (in the corresponding DFA state).\n",
        "\n",
        "* Let S1 be {s11, s12} for example. (Notice the use of upper and lower cases.)\n",
        "\n",
        "* Consider a '0' transition\n",
        "\n",
        "* Upon a '0', s11 went to set of states S11, s12 went to set of states S12, and so on.\n",
        "\n",
        "* I performed E-Closure of the states in S11 and that resulted in S11c. (If E-closure did not generate any new states, say \"E-Closure did not generate any new state.\")\n",
        "\n",
        "* Similarly, I performed E-Closure of the states in S12 and that resulted in S12c\n",
        "\n",
        "* Then I unioned S11c and S12c and called it S2\n",
        "\n",
        "* S2 is now an E-closed set of states\n",
        "\n",
        "* Thus, I arrive at a single NFA state corresponding to \n",
        "  - S1 going upon '0' to S2 (and the DFA now has a state corresponding to S2).\n",
        "\n",
        " \n",
        "## QUESTIONS FOR YOU TO ANSWER IN THE ABOVE MANNER\n",
        "\n",
        "### Looking at the NFA NFAEnds10Eps0, why did state I arise in the DFA?\n",
        "\n",
        "...Your answer in the above-style bulletted steps describing E-closure and moves on symbols...\n",
        "\n",
        "### Why did state A1_I arise in the DFA?\n",
        "\n",
        "...Your answer in the above-style bulletted steps describing E-closure and moves on symbols...\n",
        "\n",
        "### Why did F3_I_T1 arise (mention E-closure steps)\n",
        "\n",
        "...Your answer in the above-style bulletted steps describing E-closure and moves on symbols...\n",
        "\n",
        "### Explain in detail why A1_I went upon a '0' to F3_I_T1 (include all the E-closure steps)\n",
        "\n",
        "...Your answer in the above-style bulletted steps describing E-closure and moves on symbols...\n",
        "\n",
        "### Why did F2_I arise?\n",
        "\n",
        "...Your answer in the above-style bulletted steps describing E-closure and moves on symbols...\n"
      ]
    },
    {
      "cell_type": "markdown",
      "metadata": {
        "id": "nbwvM4GrVUS2"
      },
      "source": [
        "# Task 7: Brzozowski's minimization\n",
        "\n",
        "This is a DFA minimization algorithm that shows you that a bloated DFA can be minimized simply by following these steps, as explained in Section 7.7. In this problem, you will practice these steps on an initially bloated DFA given to you.\n",
        "\n",
        "The steps are these:\n",
        "\n",
        "1. Reverse the given DFA, say DFA_bloated, to obtain an NFA called NFA1 (use the rev_dfa function)\n",
        "\n",
        "2. Determinize NFA1 to obtain a DFA called DFA2\n",
        "\n",
        "3. Reverse DFA2 to obtain another NFA, say NFA2\n",
        "\n",
        "4. Determinize NFA2 to obtain the final minimized DFA, say DFA_min\n",
        "\n",
        "The problem asks you to apply this procedure to minimize DFA_bloated.\n",
        "\n"
      ]
    },
    {
      "cell_type": "code",
      "metadata": {
        "id": "mK0vnqBZVUS3"
      },
      "source": [
        "# This is a slight variant of Figure 6.7's bloated DFA \n",
        "\n",
        "DFA_bloated = md2mc('''\n",
        "\n",
        "DFA\n",
        "\n",
        "IS1: a -> Temp\n",
        "IS1: b -> FS3\n",
        "\n",
        "Temp: a -> FS2\n",
        "Temp: b -> FS3\n",
        "\n",
        "FS2: a -> S4\n",
        "FS2: b -> S5\n",
        "\n",
        "FS3: a -> S5\n",
        "FS3: b -> S4\n",
        "\n",
        "S4: a|b -> FS6\n",
        "S5: a|b -> FS6\n",
        "\n",
        "FS6: a|b -> FS6\n",
        "\n",
        "''')"
      ],
      "execution_count": null,
      "outputs": []
    },
    {
      "cell_type": "code",
      "metadata": {
        "id": "K3fyA9Y2VUS3"
      },
      "source": [
        "dotObj_dfa(DFA_bloated)"
      ],
      "execution_count": null,
      "outputs": []
    },
    {
      "cell_type": "markdown",
      "metadata": {
        "id": "waUejj5rVUS3"
      },
      "source": [
        "## Show the result of reversing the above DFA"
      ]
    },
    {
      "cell_type": "code",
      "metadata": {
        "id": "ba00PrHyVUS4"
      },
      "source": [
        "help(rev_dfa)"
      ],
      "execution_count": null,
      "outputs": []
    },
    {
      "cell_type": "markdown",
      "metadata": {
        "id": "AshqDABVVUS4"
      },
      "source": [
        "### The reverse invocation"
      ]
    },
    {
      "cell_type": "code",
      "metadata": {
        "id": "LC-598idVUS4"
      },
      "source": [
        "# Reverse DFA_bloated here\n",
        "\n",
        "NFA1 =  ... OBTAIN THE REVERSE OF DFA_bloated ..."
      ],
      "execution_count": null,
      "outputs": []
    },
    {
      "cell_type": "code",
      "metadata": {
        "id": "EmZnKhdWVUS5"
      },
      "source": [
        "dotObj_nfa(NFA1)"
      ],
      "execution_count": null,
      "outputs": []
    },
    {
      "cell_type": "markdown",
      "metadata": {
        "id": "77_qM-wMVUS5"
      },
      "source": [
        "## Check that NFA1 is indeed the reverse of DFA_bloated by checking one string\n",
        "\n",
        "Point out that \"aabba\" is in DFA_bloated's language but its reversal (i.e. \"abbaa\") is in NFA1's language\n",
        "\n",
        "### Which path does abbaa take in being accepted by NFA1 ?\n",
        "\n",
        ".... LIST THE PATH AS A SEQUENCE OF STATES, HERE ....\n",
        "\n",
        "* Starting from State ...\n",
        "\n",
        "* The next state after 'a' is ...\n",
        "\n",
        "* The next state after 'b' is ...\n",
        "\n",
        "* The next state after 'b' is ...\n",
        "\n",
        "* The next state after 'a' is ...\n",
        "\n",
        "* The next state after 'a' is ...  (This must be the final state!)\n"
      ]
    },
    {
      "cell_type": "markdown",
      "metadata": {
        "id": "R01gOdeYVUS6"
      },
      "source": [
        "## Determinize NFA1 to obtain DFA2"
      ]
    },
    {
      "cell_type": "code",
      "metadata": {
        "id": "UGitOLOWVUS6"
      },
      "source": [
        "help(nfa2dfa)"
      ],
      "execution_count": null,
      "outputs": []
    },
    {
      "cell_type": "code",
      "metadata": {
        "id": "c-Lj_QFKVUS6"
      },
      "source": [
        "DFA2 = ...DETERMINIZE NFA1 to obtain DFA2 ..."
      ],
      "execution_count": null,
      "outputs": []
    },
    {
      "cell_type": "code",
      "metadata": {
        "id": "5viCGghEVUS7"
      },
      "source": [
        "dotObj_dfa(DFA2)"
      ],
      "execution_count": null,
      "outputs": []
    },
    {
      "cell_type": "markdown",
      "metadata": {
        "id": "Qw5ureH8VUS7"
      },
      "source": [
        "## Reverse DFA2 to obtain NFA3"
      ]
    },
    {
      "cell_type": "code",
      "metadata": {
        "id": "sg7kvhNXVUS7"
      },
      "source": [
        "NFA3 = ... REVERSE DFA2 to obtain NFA3 ..."
      ],
      "execution_count": null,
      "outputs": []
    },
    {
      "cell_type": "code",
      "metadata": {
        "id": "XkqRGd-oVUS7"
      },
      "source": [
        "dotObj_nfa(NFA3)"
      ],
      "execution_count": null,
      "outputs": []
    },
    {
      "cell_type": "markdown",
      "metadata": {
        "id": "o46Ml8w0VUS8"
      },
      "source": [
        "## One more determinization, and we are done minimizing\n"
      ]
    },
    {
      "cell_type": "code",
      "metadata": {
        "id": "PbhdXOCEVUS8"
      },
      "source": [
        "DFA_min = ... DETERMINIZE NFA3 and we now have DFA_min ..."
      ],
      "execution_count": null,
      "outputs": []
    },
    {
      "cell_type": "code",
      "metadata": {
        "id": "01v3zDOuVUS8"
      },
      "source": [
        "dotObj_dfa(DFA_min)"
      ],
      "execution_count": null,
      "outputs": []
    },
    {
      "cell_type": "markdown",
      "metadata": {
        "id": "5CJ2W8uAVUS8"
      },
      "source": [
        "# Check that DFA_min and DFA_bloated have the same language but are not isomorphic"
      ]
    },
    {
      "cell_type": "code",
      "metadata": {
        "id": "jKTX-udPVUS9"
      },
      "source": [
        "help(langeq_dfa)"
      ],
      "execution_count": null,
      "outputs": []
    },
    {
      "cell_type": "code",
      "metadata": {
        "id": "dgmUNUhcVUS9"
      },
      "source": [
        "help(iso_dfa)"
      ],
      "execution_count": null,
      "outputs": []
    },
    {
      "cell_type": "code",
      "metadata": {
        "id": "4N1QSRgTVUS9"
      },
      "source": [
        "...SHOW THAT DFA_bloated and DFA_min HAVE THE SAME LANGUAGE ..."
      ],
      "execution_count": null,
      "outputs": []
    },
    {
      "cell_type": "code",
      "metadata": {
        "id": "DZ-3-fA8VUS9"
      },
      "source": [
        "...SHOW THAT DFA_bloated and DFA_min are NOT isomorphic ..."
      ],
      "execution_count": null,
      "outputs": []
    },
    {
      "cell_type": "markdown",
      "metadata": {
        "id": "R0iZbJzaVUS9"
      },
      "source": [
        "##  But DFA_min indeed is minimal as shown by the number of states of the standard DFA min algorithm"
      ]
    },
    {
      "cell_type": "code",
      "metadata": {
        "id": "_2Wx-B1GVUS-"
      },
      "source": [
        "DFA_min_alt = min_dfa(DFA_bloated)"
      ],
      "execution_count": null,
      "outputs": []
    },
    {
      "cell_type": "code",
      "metadata": {
        "id": "2kAnQ_MfVUS-"
      },
      "source": [
        "dotObj_dfa(DFA_min)"
      ],
      "execution_count": null,
      "outputs": []
    },
    {
      "cell_type": "code",
      "metadata": {
        "id": "ousJoJ4rVUS-"
      },
      "source": [
        "dotObj_dfa(DFA_min_alt)"
      ],
      "execution_count": null,
      "outputs": []
    },
    {
      "cell_type": "code",
      "metadata": {
        "id": "AfaB9VD7VUS-"
      },
      "source": [
        "help(iso_dfa)"
      ],
      "execution_count": null,
      "outputs": []
    },
    {
      "cell_type": "code",
      "metadata": {
        "id": "K8iHbzmgVUS-"
      },
      "source": [
        "...SHOW THAT DFA_min and DFA_min_alt are isomorphic...\n",
        "\n"
      ],
      "execution_count": null,
      "outputs": []
    },
    {
      "cell_type": "markdown",
      "metadata": {
        "id": "8JoGaxSwVUS-"
      },
      "source": [
        "# END of demonstration that DFA minimization can be done in two different ways\n",
        "\n",
        "## Here are some notes to understand Brzozowski's method\n",
        "\n",
        "* If you are given a DFA \"D1\", a minimal DFA for \"reverse(D1)\" is obtained by \"reverse followed by determinize\"\n",
        "\n",
        "* But since we are interested in the minimal DFA for \"D1\" (and not reverse(D1)), we do these steps again!\n",
        "\n",
        "* Hence the algorithm becomes \"reverse THEN determinize THEN reverse THEN determinize\""
      ]
    }
  ]
}