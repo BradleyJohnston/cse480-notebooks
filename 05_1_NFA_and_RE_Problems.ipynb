{
  "nbformat": 4,
  "nbformat_minor": 0,
  "metadata": {
    "colab": {
      "name": "05_1_NFA_and_RE_Problems.ipynb",
      "provenance": []
    },
    "kernelspec": {
      "display_name": "Python 3",
      "language": "python",
      "name": "python3"
    },
    "language_info": {
      "codemirror_mode": {
        "name": "ipython",
        "version": 3
      },
      "file_extension": ".py",
      "mimetype": "text/x-python",
      "name": "python",
      "nbconvert_exporter": "python",
      "pygments_lexer": "ipython3",
      "version": "3.9.0"
    },
    "toc": {
      "colors": {
        "hover_highlight": "#DAA520",
        "running_highlight": "#FF0000",
        "selected_highlight": "#FFD700"
      },
      "moveMenuLeft": true,
      "nav_menu": {
        "height": "121px",
        "width": "252px"
      },
      "navigate_menu": true,
      "number_sections": true,
      "sideBar": true,
      "threshold": 4,
      "toc_cell": false,
      "toc_section_display": "block",
      "toc_window_display": false,
      "widenNotebook": false
    }
  },
  "cells": [
    {
      "cell_type": "markdown",
      "metadata": {
        "id": "F6evhB5n1FaV"
      },
      "source": [
        "# Four Problems for Week 05's Assignment \n",
        "\n",
        "Problem 1:\n",
        "\n",
        "    a. take a given nfa called nfa1\n",
        "    \n",
        "    b. convert it to dfa1 \n",
        "    \n",
        "    c. reverse nfa1 by hand obtaining rnfa1\n",
        "    \n",
        "    d. inspect and conclude (listing six paths) that rnfa1 is indeed a reverse of nfa1\n",
        "\n",
        "Problem 2:\n",
        "\n",
        "    a. learn about a few DFA utilities such as totalize_dfa and dotObj_dfa_w_bh\n",
        "    \n",
        "    b. extract an RE by inspecting nfa1 and write it down as RE1_hand\n",
        "    \n",
        "    c. reverse RE1_hand by inspection, writing the result down as Rev_RE1_hand\n",
        "    \n",
        "    d. Understand the function del_gnfa_states via its help command\n",
        "    \n",
        "\n",
        "Problem 3:\n",
        "\n",
        "    a. obtain a GNFA for rnfa1, calling it grnfa1\n",
        "    \n",
        "    b. apply two elimination orders for states on grnfa1\n",
        "    \n",
        "    c. obtain Rev_RE1 and Rev_RE2\n",
        "    \n",
        "    d. check that Rev_RE1 and Rev_RE2 and Rev_RE1_hand are all isomorphic\n",
        "    \n",
        "\n",
        "Problem 4:\n",
        "\n",
        "    a. print the NFA for Rev_RE2 and answer the stated questions.\n",
        "    \n",
        "    b. print the NFA for Rev_RE1_hand and answer the stated questions. "
      ]
    },
    {
      "cell_type": "markdown",
      "metadata": {
        "id": "1an9nmMw1Fac",
        "run_control": {
          "frozen": false,
          "read_only": false
        }
      },
      "source": [
        "# Imports \n"
      ]
    },
    {
      "cell_type": "code",
      "metadata": {
        "id": "y863_jSu1Fad",
        "run_control": {
          "frozen": false,
          "read_only": false
        },
        "scrolled": true,
        "outputId": "dd13fdb3-a007-4028-fc40-d1d8d976b5d9",
        "colab": {
          "base_uri": "https://localhost:8080/"
        }
      },
      "source": [
        "#~~~~~~~~~~~~~~~~~~~~~~~~~~~~~~~~~~~~~~~~~~~~~~~~~~~~~~~\n",
        "import sys\n",
        "\n",
        "# -- Detect if in Own Install or in Colab\n",
        "try:\n",
        "    import google.colab\n",
        "    OWN_INSTALL = False\n",
        "except:\n",
        "    OWN_INSTALL = True\n",
        "    \n",
        "if OWN_INSTALL:\n",
        "  \n",
        "  sys.path[0:0] = ['../../../../..',  '../../../../../3rdparty',  \n",
        "                   '../../../..',  '../../../../3rdparty',  \n",
        "                   '../../..',     '../../../3rdparty', \n",
        "                   '../..',        '../../3rdparty',\n",
        "                   '..',           '../3rdparty',\n",
        "                   '../Jove',      '../Jove/jove']\n",
        "\n",
        "else: # In colab\n",
        "  ! if [ ! -d Jove ]; then git clone https://github.com/ganeshutah/Jove Jove; fi\n",
        "  sys.path.append('./Jove')\n",
        "  sys.path.append('./Jove/jove')\n",
        "\n",
        "# -- common imports --\n",
        "from jove.DotBashers import *\n",
        "from jove.Def_md2mc  import *\n",
        "from jove.Def_NFA    import *\n",
        "from jove.Def_DFA    import *\n",
        "from jove.Def_NFA2RE import *\n",
        "from jove.Def_RE2NFA import *\n",
        "from jove.AnimateNFA import *\n",
        "#~~~~~~~~~~~~~~~~~~~~~~~~~~~~~~~~~~~~~~~~~~~~~~~~~~~~~~~"
      ],
      "execution_count": 2,
      "outputs": [
        {
          "output_type": "stream",
          "text": [
            "Cloning into 'Jove'...\n",
            "remote: Enumerating objects: 4634, done.\u001b[K\n",
            "remote: Total 4634 (delta 0), reused 0 (delta 0), pack-reused 4634\u001b[K\n",
            "Receiving objects: 100% (4634/4634), 7.38 MiB | 22.89 MiB/s, done.\n",
            "Resolving deltas: 100% (3005/3005), done.\n",
            "You may use any of these help commands:\n",
            "help(ResetStNum)\n",
            "help(NxtStateStr)\n",
            "\n",
            "You may use any of these help commands:\n",
            "help(md2mc)\n",
            ".. and if you want to dig more, then ..\n",
            "help(default_line_attr)\n",
            "help(length_ok_input_items)\n",
            "help(union_line_attr_list_fld)\n",
            "help(extend_rsltdict)\n",
            "help(form_delta)\n",
            "help(get_machine_components)\n",
            "\n",
            "You may use any of these help commands:\n",
            "help(mkp_dfa)\n",
            "help(mk_dfa)\n",
            "help(totalize_dfa)\n",
            "help(addtosigma_delta)\n",
            "help(step_dfa)\n",
            "help(run_dfa)\n",
            "help(accepts_dfa)\n",
            "help(comp_dfa)\n",
            "help(union_dfa)\n",
            "help(intersect_dfa)\n",
            "help(pruneUnreach)\n",
            "help(iso_dfa)\n",
            "help(langeq_dfa)\n",
            "help(same_status)\n",
            "help(h_langeq_dfa)\n",
            "help(fixptDist)\n",
            "help(min_dfa)\n",
            "help(pairFR)\n",
            "help(state_combos)\n",
            "help(sepFinNonFin)\n",
            "help(bash_eql_classes)\n",
            "help(listminus)\n",
            "help(bash_1)\n",
            "help(mk_rep_eqc)\n",
            "help(F_of)\n",
            "help(rep_of_s)\n",
            "help(q0_of)\n",
            "help(Delta_of)\n",
            "help(mk_state_eqc_name)\n",
            "\n",
            "You may use any of these help commands:\n",
            "help(mk_nfa)\n",
            "help(totalize_nfa)\n",
            "help(step_nfa)\n",
            "help(run_nfa)\n",
            "help(ec_step_nfa)\n",
            "help(Eclosure)\n",
            "help(Echelp)\n",
            "help(accepts_nfa)\n",
            "help(nfa2dfa)\n",
            "help(n2d)\n",
            "help(inSets)\n",
            "help(rev_dfa)\n",
            "help(min_dfa_brz)\n",
            "\n",
            "You may use any of these help commands:\n",
            "help(RE2Str)\n",
            "help(mk_gnfa)\n",
            "help(mk_gnfa_from_D)\n",
            "help(dfa2nfa)\n",
            "help(del_gnfa_states)\n",
            "help(gnfa_w_REStr)\n",
            "help(del_one_gnfa_state)\n",
            "help(Edges_Exist_Via)\n",
            "help(choose_state_to_del)\n",
            "help(form_alt_RE)\n",
            "help(form_concat_RE)\n",
            "help(form_kleene_RE)\n",
            "\n",
            "You may use any of these help commands:\n",
            "help(re2nfa)\n",
            "\n",
            " \"help(AnimateNFA)\" gives you info on how to use animations with NFA \n"
          ],
          "name": "stdout"
        }
      ]
    },
    {
      "cell_type": "markdown",
      "metadata": {
        "id": "BzOCjuwm1Fae"
      },
      "source": [
        "## Problem 1: "
      ]
    },
    {
      "cell_type": "code",
      "metadata": {
        "id": "tnc6tDJT1Faf",
        "outputId": "3fc74e3b-53d1-4b5a-e743-54d1331f7735",
        "colab": {
          "base_uri": "https://localhost:8080/"
        }
      },
      "source": [
        "# Given NFA\n",
        "\n",
        "nfa1 = md2mc('''NFA\n",
        "I1 : '' -> B\n",
        "I1 : a  -> I2\n",
        "\n",
        "I2 : c  -> F3\n",
        "I2 : b  -> B\n",
        "\n",
        "B : s  -> B\n",
        "B : d  -> F4\n",
        "B : f  -> F3\n",
        "\n",
        "\n",
        "''')\n"
      ],
      "execution_count": 3,
      "outputs": [
        {
          "output_type": "stream",
          "text": [
            "Generating LALR tables\n"
          ],
          "name": "stderr"
        }
      ]
    },
    {
      "cell_type": "code",
      "metadata": {
        "id": "kV7jblE21Fag",
        "outputId": "16196ab1-c227-4ef6-f636-c6c20d1ec53d",
        "colab": {
          "base_uri": "https://localhost:8080/",
          "height": 202
        }
      },
      "source": [
        "dotObj_nfa(nfa1)"
      ],
      "execution_count": 4,
      "outputs": [
        {
          "output_type": "execute_result",
          "data": {
            "text/plain": [
              "<graphviz.dot.Digraph at 0x7f2da14e54e0>"
            ],
            "image/svg+xml": "<?xml version=\"1.0\" encoding=\"UTF-8\" standalone=\"no\"?>\n<!DOCTYPE svg PUBLIC \"-//W3C//DTD SVG 1.1//EN\"\n \"http://www.w3.org/Graphics/SVG/1.1/DTD/svg11.dtd\">\n<!-- Generated by graphviz version 2.40.1 (20161225.0304)\n -->\n<!-- Title: %3 Pages: 1 -->\n<svg width=\"402pt\" height=\"136pt\"\n viewBox=\"0.00 0.00 401.99 135.60\" xmlns=\"http://www.w3.org/2000/svg\" xmlns:xlink=\"http://www.w3.org/1999/xlink\">\n<g id=\"graph0\" class=\"graph\" transform=\"scale(1 1) rotate(0) translate(4 131.5963)\">\n<title>%3</title>\n<polygon fill=\"#ffffff\" stroke=\"transparent\" points=\"-4,4 -4,-131.5963 397.9896,-131.5963 397.9896,4 -4,4\"/>\n<!-- EMPTY -->\n<g id=\"node1\" class=\"node\">\n<title>EMPTY</title>\n</g>\n<!-- I2 -->\n<g id=\"node3\" class=\"node\">\n<title>I2</title>\n<ellipse fill=\"none\" stroke=\"#000000\" cx=\"193.545\" cy=\"-81.7982\" rx=\"18.6979\" ry=\"18.6979\"/>\n<text text-anchor=\"middle\" x=\"193.545\" y=\"-78.0982\" font-family=\"Times,serif\" font-size=\"14.00\" fill=\"#000000\">I2</text>\n</g>\n<!-- EMPTY&#45;&gt;I2 -->\n<g id=\"edge1\" class=\"edge\">\n<title>EMPTY&#45;&gt;I2</title>\n<path fill=\"none\" stroke=\"#000000\" d=\"M54.129,-66.7302C84.4711,-70.0096 133.4281,-75.3008 164.5205,-78.6612\"/>\n<polygon fill=\"#000000\" stroke=\"#000000\" points=\"164.3952,-82.168 174.7135,-79.7629 165.1475,-75.2085 164.3952,-82.168\"/>\n</g>\n<!-- I1 -->\n<g id=\"node4\" class=\"node\">\n<title>I1</title>\n<ellipse fill=\"none\" stroke=\"#000000\" cx=\"109.8483\" cy=\"-40.7982\" rx=\"18.6979\" ry=\"18.6979\"/>\n<text text-anchor=\"middle\" x=\"109.8483\" y=\"-37.0982\" font-family=\"Times,serif\" font-size=\"14.00\" fill=\"#000000\">I1</text>\n</g>\n<!-- EMPTY&#45;&gt;I1 -->\n<g id=\"edge2\" class=\"edge\">\n<title>EMPTY&#45;&gt;I1</title>\n<path fill=\"none\" stroke=\"#000000\" d=\"M54.1276,-56.2671C62.9466,-53.8188 72.7508,-51.097 81.6463,-48.6275\"/>\n<polygon fill=\"#000000\" stroke=\"#000000\" points=\"82.8586,-51.9234 91.5579,-45.8759 80.9861,-45.1785 82.8586,-51.9234\"/>\n</g>\n<!-- B -->\n<g id=\"node2\" class=\"node\">\n<title>B</title>\n<ellipse fill=\"none\" stroke=\"#000000\" cx=\"278.3933\" cy=\"-24.7982\" rx=\"18\" ry=\"18\"/>\n<text text-anchor=\"middle\" x=\"278.3933\" y=\"-21.0982\" font-family=\"Times,serif\" font-size=\"14.00\" fill=\"#000000\">B</text>\n</g>\n<!-- B&#45;&gt;B -->\n<g id=\"edge7\" class=\"edge\">\n<title>B&#45;&gt;B</title>\n<path fill=\"none\" stroke=\"#000000\" d=\"M271.3621,-41.4622C269.7996,-51.4232 272.1433,-60.7982 278.3933,-60.7982 282.3972,-60.7982 284.798,-56.9507 285.5956,-51.5664\"/>\n<polygon fill=\"#000000\" stroke=\"#000000\" points=\"289.0935,-51.4015 285.4246,-41.4622 282.0945,-51.5201 289.0935,-51.4015\"/>\n<text text-anchor=\"middle\" x=\"278.3933\" y=\"-64.5982\" font-family=\"Times,serif\" font-size=\"14.00\" fill=\"#000000\">s </text>\n</g>\n<!-- F4 -->\n<g id=\"node5\" class=\"node\">\n<title>F4</title>\n<ellipse fill=\"none\" stroke=\"#000000\" cx=\"369.1915\" cy=\"-24.7982\" rx=\"20.6302\" ry=\"20.6302\"/>\n<ellipse fill=\"none\" stroke=\"#000000\" cx=\"369.1915\" cy=\"-24.7982\" rx=\"24.5979\" ry=\"24.5979\"/>\n<text text-anchor=\"middle\" x=\"369.1915\" y=\"-21.0982\" font-family=\"Times,serif\" font-size=\"14.00\" fill=\"#000000\">F4</text>\n</g>\n<!-- B&#45;&gt;F4 -->\n<g id=\"edge8\" class=\"edge\">\n<title>B&#45;&gt;F4</title>\n<path fill=\"none\" stroke=\"#000000\" d=\"M296.7677,-24.7982C307.4554,-24.7982 321.2849,-24.7982 333.9906,-24.7982\"/>\n<polygon fill=\"#000000\" stroke=\"#000000\" points=\"334.3055,-28.2983 344.3054,-24.7982 334.3054,-21.2983 334.3055,-28.2983\"/>\n<text text-anchor=\"middle\" x=\"320.3933\" y=\"-28.5982\" font-family=\"Times,serif\" font-size=\"14.00\" fill=\"#000000\">d </text>\n</g>\n<!-- F3 -->\n<g id=\"node6\" class=\"node\">\n<title>F3</title>\n<ellipse fill=\"none\" stroke=\"#000000\" cx=\"369.1915\" cy=\"-102.7982\" rx=\"20.6302\" ry=\"20.6302\"/>\n<ellipse fill=\"none\" stroke=\"#000000\" cx=\"369.1915\" cy=\"-102.7982\" rx=\"24.5979\" ry=\"24.5979\"/>\n<text text-anchor=\"middle\" x=\"369.1915\" y=\"-99.0982\" font-family=\"Times,serif\" font-size=\"14.00\" fill=\"#000000\">F3</text>\n</g>\n<!-- B&#45;&gt;F3 -->\n<g id=\"edge9\" class=\"edge\">\n<title>B&#45;&gt;F3</title>\n<path fill=\"none\" stroke=\"#000000\" d=\"M292.1836,-36.6447C305.4854,-48.0715 325.9742,-65.6724 342.4747,-79.8471\"/>\n<polygon fill=\"#000000\" stroke=\"#000000\" points=\"340.3394,-82.627 350.2056,-86.4884 344.9008,-77.3172 340.3394,-82.627\"/>\n<text text-anchor=\"middle\" x=\"320.3933\" y=\"-67.5982\" font-family=\"Times,serif\" font-size=\"14.00\" fill=\"#000000\">f </text>\n</g>\n<!-- I2&#45;&gt;B -->\n<g id=\"edge6\" class=\"edge\">\n<title>I2&#45;&gt;B</title>\n<path fill=\"none\" stroke=\"#000000\" d=\"M209.5043,-71.0769C222.3051,-62.4775 240.4581,-50.2825 254.9162,-40.5698\"/>\n<polygon fill=\"#000000\" stroke=\"#000000\" points=\"257.0109,-43.379 263.36,-34.8973 253.1074,-37.5685 257.0109,-43.379\"/>\n<text text-anchor=\"middle\" x=\"236.3933\" y=\"-60.5982\" font-family=\"Times,serif\" font-size=\"14.00\" fill=\"#000000\">b </text>\n</g>\n<!-- I2&#45;&gt;F3 -->\n<g id=\"edge5\" class=\"edge\">\n<title>I2&#45;&gt;F3</title>\n<path fill=\"none\" stroke=\"#000000\" d=\"M212.3422,-84.0455C241.3398,-87.5124 297.4593,-94.222 334.1115,-98.6041\"/>\n<polygon fill=\"#000000\" stroke=\"#000000\" points=\"334.0069,-102.1164 344.3517,-99.8284 334.8379,-95.1659 334.0069,-102.1164\"/>\n<text text-anchor=\"middle\" x=\"278.3933\" y=\"-97.5982\" font-family=\"Times,serif\" font-size=\"14.00\" fill=\"#000000\">c </text>\n</g>\n<!-- I1&#45;&gt;B -->\n<g id=\"edge3\" class=\"edge\">\n<title>I1&#45;&gt;B</title>\n<path fill=\"none\" stroke=\"#000000\" d=\"M128.855,-38.9939C158.3749,-36.1915 215.4247,-30.7758 249.8904,-27.5039\"/>\n<polygon fill=\"#000000\" stroke=\"#000000\" points=\"250.599,-30.9525 260.2235,-26.523 249.9374,-23.9838 250.599,-30.9525\"/>\n<text text-anchor=\"middle\" x=\"193.545\" y=\"-38.5982\" font-family=\"Times,serif\" font-size=\"14.00\" fill=\"#000000\">&#39;&#39; </text>\n</g>\n<!-- I1&#45;&gt;I2 -->\n<g id=\"edge4\" class=\"edge\">\n<title>I1&#45;&gt;I2</title>\n<path fill=\"none\" stroke=\"#000000\" d=\"M127.9903,-46.8522C136.8226,-50.0288 147.495,-54.2115 156.6967,-58.7982 160.8326,-60.8598 165.1,-63.2524 169.1988,-65.6993\"/>\n<polygon fill=\"#000000\" stroke=\"#000000\" points=\"167.4451,-68.7302 177.7862,-71.0355 171.1397,-62.7846 167.4451,-68.7302\"/>\n<text text-anchor=\"middle\" x=\"151.6967\" y=\"-62.5982\" font-family=\"Times,serif\" font-size=\"14.00\" fill=\"#000000\">a </text>\n</g>\n</g>\n</svg>\n"
          },
          "metadata": {
            "tags": []
          },
          "execution_count": 4
        }
      ]
    },
    {
      "cell_type": "markdown",
      "metadata": {
        "id": "Ub1tr-Rv1Fah"
      },
      "source": [
        "## 1.1: Convert the given NFA to a DFA by hand.\n",
        "\n",
        "Use as many bullets as necessary to clearly show your work:\n",
        "\n",
        "* Q = {I1, I2, B, F3, F4}\n",
        "\n",
        "* $\\sum$ = {a, b, c, d, f, s}\n",
        "\n",
        "* F = {F3, F4}\n",
        "\n",
        "| State | $\\epsilon$ | A | B | C | D | F | S |\n",
        "|-------|------------|---|---|---|---|---|---|\n",
        "| I1 | B | I2 | | | | | |\n",
        "| I2 | | | B | F3 | | | |\n",
        "| B | | | | | F4 | F3 | B |\n",
        "| F3 | | | | | | | |\n",
        "| F4 | | | | | | | |\n",
        "\n",
        "* Q' = {I1, I2}\n"
      ]
    },
    {
      "cell_type": "code",
      "metadata": {
        "id": "CMDNIlBA1Fah",
        "outputId": "800b2248-716f-4754-de0f-d34defc6d9e1",
        "colab": {
          "base_uri": "https://localhost:8080/",
          "height": 418
        }
      },
      "source": [
        "# DFA of nfa1\n",
        "\n",
        "dfa1 = md2mc('''DFA\n",
        "\n",
        "I1_I2_B : a, b, s -> I1_I2_B\n",
        "I1_I2_B : c, f -> F3\n",
        "I1_I2_B : d -> f4\n",
        "\n",
        "''')"
      ],
      "execution_count": 6,
      "outputs": [
        {
          "output_type": "stream",
          "text": [
            "ERROR:root:An unexpected error occurred while tokenizing input\n",
            "The following traceback may be corrupted or invalid\n",
            "The error message is: ('EOF in multi-line string', (1, 0))\n",
            "\n"
          ],
          "name": "stderr"
        },
        {
          "output_type": "stream",
          "text": [
            "Syntax error at ','  on line  2\n",
            "Your are hosed due to a syntax error!\n"
          ],
          "name": "stdout"
        },
        {
          "output_type": "error",
          "ename": "ValueError",
          "evalue": "ignored",
          "traceback": [
            "\u001b[0;31m---------------------------------------------------------------------------\u001b[0m",
            "\u001b[0;31mValueError\u001b[0m                                Traceback (most recent call last)",
            "\u001b[0;32m<ipython-input-6-3424e8dd3eb7>\u001b[0m in \u001b[0;36m<module>\u001b[0;34m()\u001b[0m\n\u001b[1;32m      7\u001b[0m \u001b[0mI1_I2_B\u001b[0m \u001b[0;34m:\u001b[0m \u001b[0md\u001b[0m \u001b[0;34m->\u001b[0m \u001b[0mf4\u001b[0m\u001b[0;34m\u001b[0m\u001b[0;34m\u001b[0m\u001b[0m\n\u001b[1;32m      8\u001b[0m \u001b[0;34m\u001b[0m\u001b[0m\n\u001b[0;32m----> 9\u001b[0;31m ''')\n\u001b[0m",
            "\u001b[0;32m/content/Jove/jove/Def_md2mc.py\u001b[0m in \u001b[0;36mmd2mc\u001b[0;34m(src, fname)\u001b[0m\n\u001b[1;32m    704\u001b[0m       \u001b[0mG_in\u001b[0m\u001b[0;34m,\u001b[0m   \u001b[0mG_out\u001b[0m\u001b[0;34m,\u001b[0m\u001b[0;34m\u001b[0m\u001b[0;34m\u001b[0m\u001b[0m\n\u001b[1;32m    705\u001b[0m       \u001b[0mQ0\u001b[0m\u001b[0;34m,\u001b[0m     \u001b[0mF\u001b[0m\u001b[0;34m,\u001b[0m\u001b[0;34m\u001b[0m\u001b[0;34m\u001b[0m\u001b[0m\n\u001b[0;32m--> 706\u001b[0;31m       Sigma,  Dirn, Delta)) = rslt\n\u001b[0m\u001b[1;32m    707\u001b[0m     \u001b[0;31m#--\u001b[0m\u001b[0;34m\u001b[0m\u001b[0;34m\u001b[0m\u001b[0;34m\u001b[0m\u001b[0m\n\u001b[1;32m    708\u001b[0m     \u001b[0;31m#-- for now, make struct right here; later call right maker\u001b[0m\u001b[0;34m\u001b[0m\u001b[0;34m\u001b[0m\u001b[0;34m\u001b[0m\u001b[0m\n",
            "\u001b[0;31mValueError\u001b[0m: not enough values to unpack (expected 9, got 5)"
          ]
        }
      ]
    },
    {
      "cell_type": "code",
      "metadata": {
        "id": "0RbZ4_-o1Fai"
      },
      "source": [
        "dotObj_dfa(dfa1)"
      ],
      "execution_count": null,
      "outputs": []
    },
    {
      "cell_type": "markdown",
      "metadata": {
        "id": "p0RgegJo1Fai"
      },
      "source": [
        "## 1.2: Reverse nfa1 by hand and name the states in this manner:\n",
        "\n",
        "1) Change F3 to I3\n",
        "\n",
        "2) Change F4 to I4\n",
        "\n",
        "3) Change I1 and I2 to F1 and F2\n",
        "\n",
        "4) Now, reverse the transitions of nfa1, obtaining \"rnfa1\" below\n",
        " "
      ]
    },
    {
      "cell_type": "code",
      "metadata": {
        "id": "qhRWvd9b1Fai"
      },
      "source": [
        "# There is no Jove function to reverse automatically - do it by hand!\n",
        "rnfa1 = md2mc('''\n",
        "NFA\n",
        "\n",
        "...show your work...\n",
        "\n",
        "''')"
      ],
      "execution_count": null,
      "outputs": []
    },
    {
      "cell_type": "code",
      "metadata": {
        "id": "8UbDrNhh1Faj"
      },
      "source": [
        "dotObj_nfa(rnfa1)"
      ],
      "execution_count": null,
      "outputs": []
    },
    {
      "cell_type": "code",
      "metadata": {
        "id": "lNvtz_C51Faj"
      },
      "source": [
        "dotObj_nfa(nfa1)"
      ],
      "execution_count": null,
      "outputs": []
    },
    {
      "cell_type": "markdown",
      "metadata": {
        "id": "h3BNQFbW1Fak"
      },
      "source": [
        "## 1.3: Inspect and conclude that rnfa1 is truly the reverse of nfa1\n",
        "### List the first six strings in numeric order and check that they have been correctly reversed. State the string in the original machine and explain (by specifying a path as a sequence of states) that this string is present in the reversed machine also.\n",
        "\n",
        "1.\n",
        "\n",
        "2.\n",
        "\n",
        "3.\n",
        "\n",
        "4.\n",
        "\n",
        "5.\n",
        "\n",
        "6.\n",
        "\n",
        " \n",
        " "
      ]
    },
    {
      "cell_type": "markdown",
      "metadata": {
        "id": "Pln4gmGl1Fak"
      },
      "source": [
        "# Problem 2: Extraction of RE by Inspection and other things before it\n"
      ]
    },
    {
      "cell_type": "markdown",
      "metadata": {
        "id": "KfUW_PBz1Fak"
      },
      "source": [
        "## 2.1: Totalize dfa1 to obtain the totalized machine, then explain totalize_dfa in a few sentences below, by looking at the Delta before and After"
      ]
    },
    {
      "cell_type": "code",
      "metadata": {
        "id": "Vq0a77k-1Fal"
      },
      "source": [
        "tdfa1 = totalize_dfa(dfa1)"
      ],
      "execution_count": null,
      "outputs": []
    },
    {
      "cell_type": "markdown",
      "metadata": {
        "id": "eMdiPwL01Fal"
      },
      "source": [
        "### Your explanation of totalize_dfa:\n",
        "\n",
        "*\n",
        "\n",
        "*\n",
        "\n"
      ]
    },
    {
      "cell_type": "markdown",
      "metadata": {
        "id": "27sayTkz1Fal"
      },
      "source": [
        "##  Compare the dfa with and without the black hole:"
      ]
    },
    {
      "cell_type": "code",
      "metadata": {
        "id": "rDOSZT6p1Fal"
      },
      "source": [
        "dotObj_dfa(tdfa1)"
      ],
      "execution_count": null,
      "outputs": []
    },
    {
      "cell_type": "code",
      "metadata": {
        "id": "dWbXpki11Fam"
      },
      "source": [
        "dotObj_dfa_w_bh(tdfa1)"
      ],
      "execution_count": null,
      "outputs": []
    },
    {
      "cell_type": "markdown",
      "metadata": {
        "id": "285Y2wis1Fam"
      },
      "source": [
        "### Was it a good idea to not always show black-holes?\n",
        "\n",
        "* In what circumstances might you still need to apply the _w_bh view option?\n",
        "An open-ended answer - anything you may think up can be a valuable piece of feedback.\n",
        "\n",
        "Answer:\n"
      ]
    },
    {
      "cell_type": "markdown",
      "metadata": {
        "id": "b6bWV4AZ1Fan"
      },
      "source": [
        "## 2.2: Obtain an RE by looking at nfa1\n",
        "\n",
        "* Follow all paths\n",
        "\n",
        "* Summarize the paths in your head, using the Star operator suitably\n",
        "\n",
        "\n"
      ]
    },
    {
      "cell_type": "code",
      "metadata": {
        "id": "W2GdlsN01Fan"
      },
      "source": [
        "RE1_hand = \" ... your RE here... \""
      ],
      "execution_count": null,
      "outputs": []
    },
    {
      "cell_type": "markdown",
      "metadata": {
        "id": "kFsWMB9l1Fan"
      },
      "source": [
        "## 2.3: Reverse RE1 by hand to obtain Rev_RE1\n",
        "\n",
        "Once you have an RE, you can \"visually reverse it\" for simple REs"
      ]
    },
    {
      "cell_type": "code",
      "metadata": {
        "id": "OTCTyqlv1Fao"
      },
      "source": [
        "Rev_RE1_hand = \" ...your reversed RE here... \""
      ],
      "execution_count": null,
      "outputs": []
    },
    {
      "cell_type": "markdown",
      "metadata": {
        "id": "Fqhsan3o1Fao"
      },
      "source": [
        "## 2.4: Understand del_gnfa_states via help"
      ]
    },
    {
      "cell_type": "code",
      "metadata": {
        "id": "St7Zo8AY1Fao"
      },
      "source": [
        "# help of del_gnfa_states run below\n"
      ],
      "execution_count": null,
      "outputs": []
    },
    {
      "cell_type": "markdown",
      "metadata": {
        "id": "2KFNXlqV1Fao"
      },
      "source": [
        "### Document what you learned from the function help of del_gnfa_states and summarize below\n",
        "\n",
        "\n",
        "*\n",
        "\n",
        "*\n",
        "\n",
        "*"
      ]
    },
    {
      "cell_type": "markdown",
      "metadata": {
        "id": "5tn3lrpW1Fap"
      },
      "source": [
        "# Problem 3: Converting to GNFA and Attempting Two Elimination Orders\n",
        "\n",
        "Work on rnfa1 to obtain Rev_RE1 and Rev_RE2 "
      ]
    },
    {
      "cell_type": "markdown",
      "metadata": {
        "id": "eOmufZDa1Fap"
      },
      "source": [
        "## 3.1: Obtain grnfa1 below via a suitable command"
      ]
    },
    {
      "cell_type": "code",
      "metadata": {
        "id": "9jf13qhs1Faq"
      },
      "source": [
        "grnfa1 = mk_gnfa(rnfa1)"
      ],
      "execution_count": null,
      "outputs": []
    },
    {
      "cell_type": "code",
      "metadata": {
        "id": "iF-KnQi01Faq"
      },
      "source": [
        "dotObj_gnfa(grnfa1)"
      ],
      "execution_count": null,
      "outputs": []
    },
    {
      "cell_type": "markdown",
      "metadata": {
        "id": "VFtjQsTs1Faq"
      },
      "source": [
        "## 3.2: Apply the elimination order by supplying the second argument \n",
        "['B', 'F2', 'F1', 'I3', 'I4']\n",
        "\n",
        "as you learned in the help"
      ]
    },
    {
      "cell_type": "code",
      "metadata": {
        "id": "4XkJaoDL1Far"
      },
      "source": [
        "(Gfinal, DO, Rev_RE1) = del_gnfa_states(...args filled here...)"
      ],
      "execution_count": null,
      "outputs": []
    },
    {
      "cell_type": "code",
      "metadata": {
        "id": "zvc3WnQb1Far"
      },
      "source": [
        "Rev_RE1"
      ],
      "execution_count": null,
      "outputs": []
    },
    {
      "cell_type": "code",
      "metadata": {
        "id": "D0dEbHik1Far"
      },
      "source": [
        "dotObj_dfa(min_dfa(nfa2dfa(re2nfa(Rev_RE1))))"
      ],
      "execution_count": null,
      "outputs": []
    },
    {
      "cell_type": "markdown",
      "metadata": {
        "id": "iQEHDBcy1Far"
      },
      "source": [
        "## 3.3: Apply the elimination order by supplying the second argument \n",
        " ['I3', 'I4', 'F1', 'B', 'F2' ]\n",
        "\n",
        "as you learned in the help"
      ]
    },
    {
      "cell_type": "markdown",
      "metadata": {
        "id": "RdLm-Pc-1Fas"
      },
      "source": [
        "## Examine DO[0] through DO[Last_Legal_Item] (find out how long DO is)\n",
        "\n",
        "DO[0] is the initial GNFA machine, DO[1] is the next one, and so on. You will see each step getting\n",
        "rid of one state.\n",
        "\n",
        "### Summarize your observation of the state elimination and which REs were introduced as a result. Use one bullet per question answered below.\n",
        "\n",
        "*\n",
        "\n",
        "*\n",
        "\n",
        "*\n",
        "\n",
        "*\n",
        "\n",
        "*\n",
        "\n",
        "*\n",
        "\n",
        "*"
      ]
    },
    {
      "cell_type": "code",
      "metadata": {
        "id": "AaJuAMRJ1Fas",
        "scrolled": true
      },
      "source": [
        "(Gfinal, DO, Rev_RE2) = del_gnfa_states(grnfa1, ...args...)"
      ],
      "execution_count": null,
      "outputs": []
    },
    {
      "cell_type": "code",
      "metadata": {
        "id": "_1zdEmFo1Fas"
      },
      "source": [
        "Rev_RE2"
      ],
      "execution_count": null,
      "outputs": []
    },
    {
      "cell_type": "markdown",
      "metadata": {
        "id": "xbzVZEQY1Fat"
      },
      "source": [
        "## Examine DO[0] through DO[Last_Legal_Item] (find out how long DO is)\n",
        "\n",
        "### Summarize your observation of the state elimination and which REs were introduced as a result\n",
        "\n",
        "*\n",
        "\n",
        "*\n",
        "\n",
        "*\n",
        "\n",
        "*\n",
        "\n",
        "*\n",
        "\n",
        "*\n",
        "\n",
        "*"
      ]
    },
    {
      "cell_type": "markdown",
      "metadata": {
        "id": "1QaSXKIu1Fat"
      },
      "source": [
        "## 3.4: Check for isomorphism as requested between Rev_RE1 and Rev_RE2\n",
        "\n",
        "Apply a Jove call that is compact (and will be given in class) that checks that Rev_RE1 and Rev_RE2 are equivalent. It has to involve iso_dfa and min_dfa and other calls."
      ]
    },
    {
      "cell_type": "code",
      "metadata": {
        "id": "ft9RVqT71Fat"
      },
      "source": [
        "iso_dfa( ... )"
      ],
      "execution_count": null,
      "outputs": []
    },
    {
      "cell_type": "markdown",
      "metadata": {
        "id": "7YPYmZWU1Fau"
      },
      "source": [
        ""
      ]
    },
    {
      "cell_type": "code",
      "metadata": {
        "id": "y8DyxZvA1Fau"
      },
      "source": [
        "# Just look at it again for comparison\n",
        "\n",
        "...Rev_RE1_hand..."
      ],
      "execution_count": null,
      "outputs": []
    },
    {
      "cell_type": "markdown",
      "metadata": {
        "id": "SrFKBgbl1Fau"
      },
      "source": [
        "## 3.5: Check for isomorphism as requested between Rev_RE1 and Rev_RE1_hand\n",
        "\n",
        "Same methods as above."
      ]
    },
    {
      "cell_type": "code",
      "metadata": {
        "id": "ITE6hltC1Fau"
      },
      "source": [
        "iso_dfa( ... )"
      ],
      "execution_count": null,
      "outputs": []
    },
    {
      "cell_type": "markdown",
      "metadata": {
        "id": "gAGEONPJ1Fav"
      },
      "source": [
        "# Problem 4: Chasing down the RE2NFA components\n",
        "\n",
        "Find out where the s* components are and explain the set of all strings that precede s* in Rev_RE2 and the NFA of Rev_RE2\n",
        "\n",
        "Find out where the ending \"a\" is, and find out the set of all the symbols that precede a\n",
        "\n",
        "Let's first look at the NFA and then see where the RE \"parts\" are in it."
      ]
    },
    {
      "cell_type": "code",
      "metadata": {
        "id": "reKK6EvN1Fav",
        "scrolled": true
      },
      "source": [
        "dotObj_nfa(re2nfa(Rev_RE2))"
      ],
      "execution_count": null,
      "outputs": []
    },
    {
      "cell_type": "markdown",
      "metadata": {
        "id": "rViHZD9k1Fav"
      },
      "source": [
        "\n",
        "This is an exercise in explaining how Rev_RE2 got translated to an NFA. You are to pick these cases and find an example of each, and explain below. What you pick does not matter.\n",
        "\n",
        "* Find a case where a Star is used, and explain the construction, pointing to the states involved. Use up to 6 bullets below. More or less based on how you explain (clarity not length emphasized).\n",
        "  - ...\n",
        "  - ...\n",
        "  - ...\n",
        "  - ...\n",
        "  - ...\n",
        "  - ...\n",
        "\n",
        "* Find a case where the Star follows something (I.e. a concatenation of the form \"X\" followed by \"Star\" is used). Show how that concatenation construction is accomplished in the same manner (up to 6 bullets roughly) as above. More or less based on how you explain.\n",
        "  - ...\n",
        "  - ...\n",
        "  - ...\n",
        "  - ...\n",
        "  - ...\n",
        "  - ...\n",
        "  \n",
        "* Find a case where something follows Star (I.e. a concatenation of the form \"Star\" followed by \"X\"). Explain how the concatenation is accomplished.\n",
        "  - ...\n",
        "  - ...\n",
        "  - ...\n",
        "  - ...\n",
        "  - ...\n",
        "  - ..."
      ]
    },
    {
      "cell_type": "markdown",
      "metadata": {
        "id": "fmY0Ky9A1Faw"
      },
      "source": [
        "## Repeat finding out the aforesaid paths in your own Rev_RE1_hand"
      ]
    },
    {
      "cell_type": "markdown",
      "metadata": {
        "id": "cmAoBNG81Faw"
      },
      "source": [
        "\n",
        "This is an exercise in explaining how Rev_RE1_hand got translated to an NFA. You are to pick these cases and find an example of each, and explain below. What you pick does not matter.\n",
        "\n",
        "* Find a case where a Star is used, and explain the construction, pointing to the states involved. Use up to 6 bullets below. More or less based on how you explain (clarity not length emphasized).\n",
        "  - ...\n",
        "  - ...\n",
        "  - ...\n",
        "  - ...\n",
        "  - ...\n",
        "  - ...\n",
        "\n",
        "* Find a case where the Star follows something (I.e. a concatenation of the form \"X\" followed by \"Star\" is used). If such a case does not arise in your RE, skip this part. Show how that concatenation construction is accomplished in the same manner (up to 6 bullets roughly) as above. More or less based on how you explain. \n",
        "  - ...\n",
        "  - ...\n",
        "  - ...\n",
        "  - ...\n",
        "  - ...\n",
        "  - ...\n",
        "  \n",
        "* Find a case where something follows Star (I.e. a concatenation of the form \"Star\" followed by \"X\"). If such a case does not arise in your RE, skip this part. Explain how the concatenation is accomplished.\n",
        "  - ...\n",
        "  - ...\n",
        "  - ...\n",
        "  - ...\n",
        "  - ...\n",
        "  - ..."
      ]
    },
    {
      "cell_type": "markdown",
      "metadata": {
        "id": "V9nRzOHS1Fax"
      },
      "source": [
        "# END\n"
      ]
    }
  ]
}